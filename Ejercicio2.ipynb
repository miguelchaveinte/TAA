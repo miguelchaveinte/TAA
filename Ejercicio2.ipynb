{
 "cells": [
  {
   "cell_type": "markdown",
   "id": "08c72065-1885-4142-a22c-e29847384815",
   "metadata": {},
   "source": [
    "# PRACTICA 9: PERCEPTRÓN SIMPLE y ADALINE - PARTE 2"
   ]
  },
  {
   "cell_type": "markdown",
   "id": "82361caa-5cc5-461d-b490-24f70e71922d",
   "metadata": {},
   "source": [
    "#### TAA \n",
    "#### MIGUEL CHAVEINTE GARCÍA"
   ]
  },
  {
   "cell_type": "code",
   "execution_count": 2,
   "id": "73b4875f-07f0-45b3-aee5-7736b9703b6f",
   "metadata": {},
   "outputs": [],
   "source": [
    "from sklearn.datasets import load_boston\n",
    "from sklearn.linear_model import SGDRegressor\n",
    "from sklearn.preprocessing import MinMaxScaler\n",
    "import numpy as np\n",
    "import pandas as pd\n",
    "from sklearn.model_selection import KFold"
   ]
  },
  {
   "cell_type": "code",
   "execution_count": 3,
   "id": "e2317b3e-c3a6-4a1a-ba6c-7b92fbb12ba4",
   "metadata": {},
   "outputs": [],
   "source": [
    "data = load_boston()\n",
    "y = data.target\n",
    "# Normalizar\n",
    "X = MinMaxScaler().fit_transform(data.data)\n"
   ]
  },
  {
   "cell_type": "code",
   "execution_count": 4,
   "id": "8ebc6d07-a8a8-43cb-9a94-b28db469d293",
   "metadata": {},
   "outputs": [],
   "source": [
    "# Creamos el regresor lineal que utiliza la técnica del descenso de gradiente estocástico a la hora de entrenar\n",
    "reg = SGDRegressor(max_iter=5000, tol=1e-6, shuffle=True,random_state=10)"
   ]
  },
  {
   "cell_type": "code",
   "execution_count": 5,
   "id": "44c67d19-0757-4af3-9f92-346c7fa7d83b",
   "metadata": {},
   "outputs": [
    {
     "name": "stderr",
     "output_type": "stream",
     "text": [
      "/home/miguel/anaconda3/lib/python3.9/site-packages/sklearn/model_selection/_split.py:292: FutureWarning: Setting a random_state has no effect since shuffle is False. This will raise an error in 0.24. You should leave random_state to its default (None), or set shuffle=True.\n",
      "  warnings.warn(\n"
     ]
    },
    {
     "data": {
      "text/html": [
       "<div>\n",
       "<style scoped>\n",
       "    .dataframe tbody tr th:only-of-type {\n",
       "        vertical-align: middle;\n",
       "    }\n",
       "\n",
       "    .dataframe tbody tr th {\n",
       "        vertical-align: top;\n",
       "    }\n",
       "\n",
       "    .dataframe thead th {\n",
       "        text-align: right;\n",
       "    }\n",
       "</style>\n",
       "<table border=\"1\" class=\"dataframe\">\n",
       "  <thead>\n",
       "    <tr style=\"text-align: right;\">\n",
       "      <th></th>\n",
       "      <th>Aciertos</th>\n",
       "      <th>R^2</th>\n",
       "    </tr>\n",
       "  </thead>\n",
       "  <tbody>\n",
       "    <tr>\n",
       "      <th>Fold 0</th>\n",
       "      <td>0.745098</td>\n",
       "      <td>0.769688</td>\n",
       "    </tr>\n",
       "    <tr>\n",
       "      <th>Fold 1</th>\n",
       "      <td>0.784314</td>\n",
       "      <td>0.649185</td>\n",
       "    </tr>\n",
       "    <tr>\n",
       "      <th>Fold 2</th>\n",
       "      <td>0.72549</td>\n",
       "      <td>-0.217771</td>\n",
       "    </tr>\n",
       "    <tr>\n",
       "      <th>Fold 3</th>\n",
       "      <td>0.607843</td>\n",
       "      <td>0.604724</td>\n",
       "    </tr>\n",
       "    <tr>\n",
       "      <th>Fold 4</th>\n",
       "      <td>0.568627</td>\n",
       "      <td>0.599919</td>\n",
       "    </tr>\n",
       "    <tr>\n",
       "      <th>Fold 5</th>\n",
       "      <td>0.72549</td>\n",
       "      <td>0.737324</td>\n",
       "    </tr>\n",
       "    <tr>\n",
       "      <th>Fold 6</th>\n",
       "      <td>0.74</td>\n",
       "      <td>0.495128</td>\n",
       "    </tr>\n",
       "    <tr>\n",
       "      <th>Fold 7</th>\n",
       "      <td>0.24</td>\n",
       "      <td>0.090101</td>\n",
       "    </tr>\n",
       "    <tr>\n",
       "      <th>Fold 8</th>\n",
       "      <td>0.38</td>\n",
       "      <td>-0.463905</td>\n",
       "    </tr>\n",
       "    <tr>\n",
       "      <th>Fold 9</th>\n",
       "      <td>0.64</td>\n",
       "      <td>0.421629</td>\n",
       "    </tr>\n",
       "  </tbody>\n",
       "</table>\n",
       "</div>"
      ],
      "text/plain": [
       "        Aciertos       R^2\n",
       "Fold 0  0.745098  0.769688\n",
       "Fold 1  0.784314  0.649185\n",
       "Fold 2   0.72549 -0.217771\n",
       "Fold 3  0.607843  0.604724\n",
       "Fold 4  0.568627  0.599919\n",
       "Fold 5   0.72549  0.737324\n",
       "Fold 6      0.74  0.495128\n",
       "Fold 7      0.24  0.090101\n",
       "Fold 8      0.38 -0.463905\n",
       "Fold 9      0.64  0.421629"
      ]
     },
     "execution_count": 5,
     "metadata": {},
     "output_type": "execute_result"
    }
   ],
   "source": [
    "# Matriz que almacernará los resultados de la tasa de acierto y del R^2 para cada partición\n",
    "results = pd.DataFrame(columns=['Aciertos','R^2'], index=['Fold 0','Fold 1','Fold 2','Fold 3','Fold 4','Fold 5','Fold 6','Fold 7','Fold 8','Fold 9'])\n",
    "k = 0\n",
    "# Creación de 10 particiones para realizar validación cruzada\n",
    "kf = KFold(n_splits=10,random_state=20)\n",
    "\n",
    "for train_index, test_index in kf.split(X, y):\n",
    "    X_train, X_test = X[train_index], X[test_index]\n",
    "    y_train, y_test = y[train_index], y[test_index]\n",
    "    \n",
    "    # Entrenamos el regresor\n",
    "    reg.fit(X_train, y_train)\n",
    "    # Predecimos utilizando las intancias de test\n",
    "    y_predict = reg.predict(X_test)\n",
    "    \n",
    "    # Calculamos el error relativo para cada partición\n",
    "    y_rel_error = abs(y_test-y_predict)/y_test\n",
    "    \n",
    "    # Calculamos la tasa de acierto sobre las muestras de test\n",
    "    # Dividimos el número de instancias que obtienen un error relativo menor del 15% entre el total de muestras de test\n",
    "    ac = np.argwhere(y_rel_error<0.15).shape[0]/y_rel_error.shape[0]\n",
    "    # Calculamos el coeficiente de determinación\n",
    "    r2 = reg.score(X_test,y_test)\n",
    "    \n",
    "    results.loc['Fold '+str(k),:] = [ac,r2]\n",
    "    k +=1\n",
    "\n",
    "results"
   ]
  },
  {
   "cell_type": "code",
   "execution_count": 6,
   "id": "94cb13a3-7ab3-4888-a623-b157bd21bf0f",
   "metadata": {},
   "outputs": [
    {
     "data": {
      "text/html": [
       "<div>\n",
       "<style scoped>\n",
       "    .dataframe tbody tr th:only-of-type {\n",
       "        vertical-align: middle;\n",
       "    }\n",
       "\n",
       "    .dataframe tbody tr th {\n",
       "        vertical-align: top;\n",
       "    }\n",
       "\n",
       "    .dataframe thead th {\n",
       "        text-align: right;\n",
       "    }\n",
       "</style>\n",
       "<table border=\"1\" class=\"dataframe\">\n",
       "  <thead>\n",
       "    <tr style=\"text-align: right;\">\n",
       "      <th></th>\n",
       "      <th>Media</th>\n",
       "      <th>Desviación estándar</th>\n",
       "    </tr>\n",
       "  </thead>\n",
       "  <tbody>\n",
       "    <tr>\n",
       "      <th>Aciertos</th>\n",
       "      <td>0.615686</td>\n",
       "      <td>0.177734</td>\n",
       "    </tr>\n",
       "    <tr>\n",
       "      <th>R^2</th>\n",
       "      <td>0.368602</td>\n",
       "      <td>0.424015</td>\n",
       "    </tr>\n",
       "  </tbody>\n",
       "</table>\n",
       "</div>"
      ],
      "text/plain": [
       "             Media Desviación estándar\n",
       "Aciertos  0.615686            0.177734\n",
       "R^2       0.368602            0.424015"
      ]
     },
     "execution_count": 6,
     "metadata": {},
     "output_type": "execute_result"
    }
   ],
   "source": [
    "results1 = pd.DataFrame(columns=['Media','Desviación estándar'], index=['Aciertos','R^2'])\n",
    "results1.loc['Aciertos',:] = [results.mean().values[0],results.std().values[0]]\n",
    "results1.loc['R^2',:] = [results.mean().values[1],results.std().values[1]]\n",
    "results1"
   ]
  },
  {
   "cell_type": "code",
   "execution_count": null,
   "id": "a92a89b7-8a5b-4034-953d-7ddf159a26d5",
   "metadata": {},
   "outputs": [],
   "source": []
  }
 ],
 "metadata": {
  "kernelspec": {
   "display_name": "Python 3 (ipykernel)",
   "language": "python",
   "name": "python3"
  },
  "language_info": {
   "codemirror_mode": {
    "name": "ipython",
    "version": 3
   },
   "file_extension": ".py",
   "mimetype": "text/x-python",
   "name": "python",
   "nbconvert_exporter": "python",
   "pygments_lexer": "ipython3",
   "version": "3.9.7"
  }
 },
 "nbformat": 4,
 "nbformat_minor": 5
}
