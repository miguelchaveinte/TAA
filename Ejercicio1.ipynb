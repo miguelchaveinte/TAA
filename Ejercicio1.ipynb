{
 "cells": [
  {
   "cell_type": "markdown",
   "id": "5eefc395-8697-4b69-9e0a-68d9c7aaa51c",
   "metadata": {
    "tags": []
   },
   "source": [
    "# PRACTICA 9: PERCEPTRÓN SIMPLE y ADALINE - PARTE 1"
   ]
  },
  {
   "cell_type": "markdown",
   "id": "5133bbe6-8777-4d1f-a6b7-ee6041b07bf1",
   "metadata": {
    "tags": []
   },
   "source": [
    "#### TAA - 27 MAYO\n",
    "#### MIGUEL CHAVEINTE GARCÍA"
   ]
  },
  {
   "cell_type": "code",
   "execution_count": 1,
   "id": "eeca9695-e409-4218-ae15-b1b6ea33e445",
   "metadata": {},
   "outputs": [],
   "source": [
    "import numpy as np\n",
    "from sklearn.datasets import make_blobs\n",
    "import matplotlib.pyplot as plt\n",
    "from sklearn.preprocessing import MinMaxScaler"
   ]
  },
  {
   "cell_type": "code",
   "execution_count": 2,
   "id": "137e5245-8da7-4e2d-a2a4-c1e701822a0b",
   "metadata": {},
   "outputs": [],
   "source": [
    "# 1000 muestras, 2 atributos y 1 clase\n",
    "X_g1, y_g1 = make_blobs(n_samples=1000, n_features=2, centers=1, random_state=10)\n",
    "X_g2, y_g2 = make_blobs(n_samples=1000, n_features=2, centers=1, random_state=7)"
   ]
  },
  {
   "cell_type": "code",
   "execution_count": 3,
   "id": "1e9625ef-0793-4a9a-af04-12eafc11bb41",
   "metadata": {},
   "outputs": [
    {
     "name": "stdout",
     "output_type": "stream",
     "text": [
      "[0 0 0 ... 0 0 0]\n"
     ]
    }
   ],
   "source": [
    "# Concatenamos ambas muestras y normalizamos los datos\n",
    "X = np.concatenate((X_g1, X_g2), axis=0)\n",
    "X = MinMaxScaler().fit_transform(X)\n",
    "print( np.concatenate((y_g1, y_g2), axis=0))\n",
    "# Introducimos dos clases en el conjunto de datos ya que se crearon ambos con clase 0\n",
    "y_g1 = y_g1-1\n",
    "y_g2 = y_g2+1\n",
    "y = np.concatenate((y_g1, y_g2), axis=0)"
   ]
  },
  {
   "cell_type": "code",
   "execution_count": 4,
   "id": "53f756aa-62e2-47bb-b78b-b2f0e0e1169e",
   "metadata": {},
   "outputs": [
    {
     "data": {
      "text/plain": [
       "array([-1, -1, -1, ...,  1,  1,  1])"
      ]
     },
     "execution_count": 4,
     "metadata": {},
     "output_type": "execute_result"
    }
   ],
   "source": [
    "y"
   ]
  },
  {
   "cell_type": "code",
   "execution_count": null,
   "id": "ac95e27a-ea9d-48e9-b3d3-26ffdd4ae493",
   "metadata": {},
   "outputs": [],
   "source": []
  },
  {
   "cell_type": "markdown",
   "id": "37b5643e-7783-4ccd-b253-370fb8847fb4",
   "metadata": {},
   "source": [
    "### MUESTRAS EN EL PLANO"
   ]
  },
  {
   "cell_type": "code",
   "execution_count": 5,
   "id": "324a005c-080c-4e9a-b073-878fc841771b",
   "metadata": {},
   "outputs": [
    {
     "data": {
      "image/png": "[encoded data removed]",
      "text/plain": [
       "<Figure size 432x288 with 1 Axes>"
      ]
     },
     "metadata": {
      "needs_background": "light"
     },
     "output_type": "display_data"
    }
   ],
   "source": [
    "# Instancias con la clase -1 en azul\n",
    "plt.scatter\n",
    "plt.scatter(X[np.argwhere(y==-1),0], X[np.argwhere(y==-1),1], c='blue', marker='o')\n",
    "# Instancias con la clase 1 en rojo\n",
    "plt.scatter(X[np.argwhere(y==1),0], X[np.argwhere(y==1),1], c='red', marker='x')\n",
    "plt.xlabel('Atributo 1')\n",
    "plt.ylabel('Atributo 2')\n",
    "plt.grid()\n",
    "plt.show()"
   ]
  },
  {
   "cell_type": "code",
   "execution_count": 6,
   "id": "b9ffc901-8709-4a36-a6c4-1c1ac47cbe4c",
   "metadata": {},
   "outputs": [],
   "source": [
    "class perceptron_simple():\n",
    "    def __init__(self, n_inputs=2, n_outputs=1, W=None, b=None):\n",
    "        self.n_inputs = n_inputs\n",
    "        self.n_outputs = n_outputs\n",
    "        self.W = W\n",
    "        self.b = b\n",
    "        #print(W,b)\n",
    "        # Valores en un rango [-0.5,0.5] devueltos en una matriz 1x2\n",
    "        if self.W is None:\n",
    "            self.W = np.random.rand(self.n_outputs, self.n_inputs)-0.5\n",
    "        # Valores en un rango [-0.5,0.5] devueltos en una matriz 1x1\n",
    "        if self.b is None:\n",
    "            self.b = np.random.rand(self.n_outputs, 1)-0.5\n",
    "        #print(self.W, self.W.shape, self.b, self.b.shape)\n",
    "        \n",
    "    # Método que realiza la predicción para unos valores de entrada dados\n",
    "    # Devuelve una lista de enteros tras aplicar la función de activación a la suma de la multiplicación\n",
    "    # de los pesos por la entrada y el umbral\n",
    "    def predict(self, x):\n",
    "        return np.sign(self.W @ x.T + self.b).T.astype(int)\n",
    "    \n",
    "    # Método para entrenar el perceptrón\n",
    "    def train(self, X, D):\n",
    "        # Comprueba si con las muestras y los pesos que tiene hay coincidencia con la salida deseada\n",
    "        if np.sum(self.predict(X) == D) != D.shape[0]:\n",
    "            continuar = True\n",
    "            p = 0\n",
    "            \n",
    "            # Con los pesos que tenemos no se puede separar las muestras \n",
    "            while continuar:\n",
    "                v = p % X.shape[0]\n",
    "                x = X[v].reshape(1,-1)\n",
    "                y = self.predict(x)\n",
    "                d = D[v].reshape(1,-1)\n",
    "                #print(X.shape[0], \"v=\", v, \"x=\", x, x.shape, \"_y=\", y, \"_d=\", d)\n",
    "                #print(y, y.shape, d, d.shape)\n",
    "                \n",
    "                # Modificamos los pesos y el umbral\n",
    "                if y != d:\n",
    "                    self.W += d*x\n",
    "                    self.b += d\n",
    "                    # Comprueba si con las muestras y los pesos que tiene hay coincidencia con la salida deseada\n",
    "                    if np.sum(self.predict(X) == D) == D.shape[0]:\n",
    "                        continuar = False  # Las muestras se separan\n",
    "                p += 1\n",
    "        return\n",
    "    \n",
    "    # Devuelve los valores de los pesos y del umbral\n",
    "    def get_params(self):\n",
    "        return self.W, self.b\n"
   ]
  },
  {
   "cell_type": "code",
   "execution_count": 7,
   "id": "eff4474d-b8a2-40c8-8884-4ce9406c7fc7",
   "metadata": {},
   "outputs": [],
   "source": [
    "# Creamos un perceptrón con 2 atributos para la entrada y 1 neurona en la capa de salida\n",
    "# pesos fijados aleatoriamente por el constructor\n",
    "ps = perceptron_simple(n_inputs=2, n_outputs=1)"
   ]
  },
  {
   "cell_type": "code",
   "execution_count": 8,
   "id": "7f89f5c0-cfb2-49fa-85ba-c5928469a18e",
   "metadata": {},
   "outputs": [],
   "source": [
    "# Entrenamos el perceptrón\n",
    "ps.train(X,y.reshape(-1,1))"
   ]
  },
  {
   "cell_type": "code",
   "execution_count": 9,
   "id": "a3d1e3df-1607-46c7-90cf-1cbf2abbdd32",
   "metadata": {},
   "outputs": [
    {
     "data": {
      "text/plain": [
       "array([[-0.36594371,  0.73843144]])"
      ]
     },
     "execution_count": 9,
     "metadata": {},
     "output_type": "execute_result"
    }
   ],
   "source": [
    "# Obtenemos los parámetros para representar la recta que separa ambas muestras\n",
    "pesos, bias = ps.get_params()\n",
    "pesos\n"
   ]
  },
  {
   "cell_type": "code",
   "execution_count": 10,
   "id": "a260d37d-c02a-4fac-a411-8623bba93d98",
   "metadata": {},
   "outputs": [
    {
     "data": {
      "text/plain": [
       "0.7384314415944218"
      ]
     },
     "execution_count": 10,
     "metadata": {},
     "output_type": "execute_result"
    }
   ],
   "source": [
    "pesos[0,1]"
   ]
  },
  {
   "cell_type": "code",
   "execution_count": 11,
   "id": "4a1c4625-9346-4647-add5-736ebe1780c0",
   "metadata": {},
   "outputs": [
    {
     "data": {
      "text/plain": [
       "array([[-0.2324322]])"
      ]
     },
     "execution_count": 11,
     "metadata": {},
     "output_type": "execute_result"
    }
   ],
   "source": [
    "bias"
   ]
  },
  {
   "cell_type": "code",
   "execution_count": 12,
   "id": "0cb62a15-bc9a-40a1-ba97-60e0cded69a7",
   "metadata": {},
   "outputs": [
    {
     "data": {
      "image/png": "[encoded data removed]",
      "text/plain": [
       "<Figure size 432x288 with 1 Axes>"
      ]
     },
     "metadata": {
      "needs_background": "light"
     },
     "output_type": "display_data"
    }
   ],
   "source": [
    "# Instancias con la clase -1 en azul\n",
    "plt.scatter(X[np.argwhere(y==-1),0], X[np.argwhere(y==-1),1], c='blue', marker='o')\n",
    "# Instancias con la clase 1 en rojo\n",
    "plt.scatter(X[np.argwhere(y==1),0], X[np.argwhere(y==1),1], c='red', marker='x')\n",
    "plt.xlabel('Atributo 1')\n",
    "plt.ylabel('Atributo 2')\n",
    "plt.xlim = (0,1)\n",
    "plt.ylim = (0,2)\n",
    "plt.grid()\n",
    "x1 = np.array([0.0,1.0])\n",
    "# Calculo de la y correspondiente a los puntos x1\n",
    "x2 = np.array([-bias[0,0]/pesos[0,1],(-bias[0,0]-pesos[0,0])/pesos[0,1]])\n",
    "plt.plot(x1, x2, c='black')\n",
    "plt.show()"
   ]
  },
  {
   "cell_type": "code",
   "execution_count": null,
   "id": "4655f221-6efd-4b68-8fad-cc8801829154",
   "metadata": {},
   "outputs": [],
   "source": []
  }
 ],
 "metadata": {
  "kernelspec": {
   "display_name": "Python 3 (ipykernel)",
   "language": "python",
   "name": "python3"
  },
  "language_info": {
   "codemirror_mode": {
    "name": "ipython",
    "version": 3
   },
   "file_extension": ".py",
   "mimetype": "text/x-python",
   "name": "python",
   "nbconvert_exporter": "python",
   "pygments_lexer": "ipython3",
   "version": "3.9.7"
  }
 },
 "nbformat": 4,
 "nbformat_minor": 5
}
