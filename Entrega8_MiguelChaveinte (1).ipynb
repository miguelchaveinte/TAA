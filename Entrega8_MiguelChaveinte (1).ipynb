{
 "cells": [
  {
   "cell_type": "markdown",
   "id": "b5963255-9c34-4bb6-a2d5-1018b458b4a3",
   "metadata": {},
   "source": [
    "# PRACTICA 8 REGRESIÓN LINEAL, MÚLTIPLE Y LOGÍSTICA"
   ]
  },
  {
   "cell_type": "markdown",
   "id": "83c244f9-eddc-4bfd-85df-a90dd8bf6a09",
   "metadata": {},
   "source": [
    "#### TAA - 10 MAYO\n",
    "#### MIGUEL CHAVEINTE GARCÍA"
   ]
  },
  {
   "cell_type": "code",
   "execution_count": 1,
   "id": "97897bd3-d1f6-44ea-9cd2-f002198dc318",
   "metadata": {},
   "outputs": [],
   "source": [
    "import pandas as pd\n",
    "import numpy as np\n",
    "from sys import float_info\n",
    "from sklearn.preprocessing import MinMaxScaler, LabelBinarizer\n",
    "from sklearn.model_selection import train_test_split, cross_val_score, StratifiedKFold\n",
    "from sklearn.linear_model import LogisticRegression, LinearRegression\n",
    "from sklearn.metrics import confusion_matrix\n",
    "from sklearn.metrics import accuracy_score as ac"
   ]
  },
  {
   "cell_type": "markdown",
   "id": "e9b23383-53fa-4fef-b135-80e5a332b2f0",
   "metadata": {},
   "source": [
    "#### Apartado 1"
   ]
  },
  {
   "cell_type": "code",
   "execution_count": 2,
   "id": "0b1f631e-83d0-4f32-85a5-fb136ff7e85d",
   "metadata": {},
   "outputs": [
    {
     "name": "stdout",
     "output_type": "stream",
     "text": [
      "(10430, 11)\n",
      "(10437, 11)\n"
     ]
    }
   ],
   "source": [
    "fichero_entreno = pd.read_csv(\"./avila-tr.txt\", header= None)\n",
    "print(fichero_entreno.shape)\n",
    "\n",
    "fichero_test= pd.read_csv(\"./avila-ts.txt\", header= None)\n",
    "print(fichero_test.shape)"
   ]
  },
  {
   "cell_type": "code",
   "execution_count": 3,
   "id": "5ab5b148-3dfd-4200-984f-464d64df560d",
   "metadata": {},
   "outputs": [
    {
     "data": {
      "text/html": [
       "<div>\n",
       "<style scoped>\n",
       "    .dataframe tbody tr th:only-of-type {\n",
       "        vertical-align: middle;\n",
       "    }\n",
       "\n",
       "    .dataframe tbody tr th {\n",
       "        vertical-align: top;\n",
       "    }\n",
       "\n",
       "    .dataframe thead th {\n",
       "        text-align: right;\n",
       "    }\n",
       "</style>\n",
       "<table border=\"1\" class=\"dataframe\">\n",
       "  <thead>\n",
       "    <tr style=\"text-align: right;\">\n",
       "      <th></th>\n",
       "      <th>F1</th>\n",
       "      <th>F2</th>\n",
       "      <th>F3</th>\n",
       "      <th>F4</th>\n",
       "      <th>F5</th>\n",
       "      <th>F6</th>\n",
       "      <th>F7</th>\n",
       "      <th>F8</th>\n",
       "      <th>F9</th>\n",
       "      <th>F10</th>\n",
       "      <th>Class</th>\n",
       "    </tr>\n",
       "  </thead>\n",
       "  <tbody>\n",
       "    <tr>\n",
       "      <th>0</th>\n",
       "      <td>0.266074</td>\n",
       "      <td>-0.165620</td>\n",
       "      <td>0.320980</td>\n",
       "      <td>0.483299</td>\n",
       "      <td>0.172340</td>\n",
       "      <td>0.273364</td>\n",
       "      <td>0.371178</td>\n",
       "      <td>0.929823</td>\n",
       "      <td>0.251173</td>\n",
       "      <td>0.159345</td>\n",
       "      <td>A</td>\n",
       "    </tr>\n",
       "    <tr>\n",
       "      <th>1</th>\n",
       "      <td>0.130292</td>\n",
       "      <td>0.870736</td>\n",
       "      <td>-3.210528</td>\n",
       "      <td>0.062493</td>\n",
       "      <td>0.261718</td>\n",
       "      <td>1.436060</td>\n",
       "      <td>1.465940</td>\n",
       "      <td>0.636203</td>\n",
       "      <td>0.282354</td>\n",
       "      <td>0.515587</td>\n",
       "      <td>A</td>\n",
       "    </tr>\n",
       "    <tr>\n",
       "      <th>2</th>\n",
       "      <td>-0.116585</td>\n",
       "      <td>0.069915</td>\n",
       "      <td>0.068476</td>\n",
       "      <td>-0.783147</td>\n",
       "      <td>0.261718</td>\n",
       "      <td>0.439463</td>\n",
       "      <td>-0.081827</td>\n",
       "      <td>-0.888236</td>\n",
       "      <td>-0.123005</td>\n",
       "      <td>0.582939</td>\n",
       "      <td>A</td>\n",
       "    </tr>\n",
       "    <tr>\n",
       "      <th>3</th>\n",
       "      <td>0.031541</td>\n",
       "      <td>0.297600</td>\n",
       "      <td>-3.210528</td>\n",
       "      <td>-0.583590</td>\n",
       "      <td>-0.721442</td>\n",
       "      <td>-0.307984</td>\n",
       "      <td>0.710932</td>\n",
       "      <td>1.051693</td>\n",
       "      <td>0.594169</td>\n",
       "      <td>-0.533994</td>\n",
       "      <td>A</td>\n",
       "    </tr>\n",
       "    <tr>\n",
       "      <th>4</th>\n",
       "      <td>0.229043</td>\n",
       "      <td>0.807926</td>\n",
       "      <td>-0.052442</td>\n",
       "      <td>0.082634</td>\n",
       "      <td>0.261718</td>\n",
       "      <td>0.148790</td>\n",
       "      <td>0.635431</td>\n",
       "      <td>0.051062</td>\n",
       "      <td>0.032902</td>\n",
       "      <td>-0.086652</td>\n",
       "      <td>F</td>\n",
       "    </tr>\n",
       "    <tr>\n",
       "      <th>...</th>\n",
       "      <td>...</td>\n",
       "      <td>...</td>\n",
       "      <td>...</td>\n",
       "      <td>...</td>\n",
       "      <td>...</td>\n",
       "      <td>...</td>\n",
       "      <td>...</td>\n",
       "      <td>...</td>\n",
       "      <td>...</td>\n",
       "      <td>...</td>\n",
       "      <td>...</td>\n",
       "    </tr>\n",
       "    <tr>\n",
       "      <th>10432</th>\n",
       "      <td>-0.128929</td>\n",
       "      <td>-0.040001</td>\n",
       "      <td>0.057807</td>\n",
       "      <td>0.557894</td>\n",
       "      <td>0.261718</td>\n",
       "      <td>-0.930856</td>\n",
       "      <td>-0.044076</td>\n",
       "      <td>1.158458</td>\n",
       "      <td>2.277968</td>\n",
       "      <td>-0.699884</td>\n",
       "      <td>X</td>\n",
       "    </tr>\n",
       "    <tr>\n",
       "      <th>10433</th>\n",
       "      <td>0.266074</td>\n",
       "      <td>0.556689</td>\n",
       "      <td>-0.020434</td>\n",
       "      <td>0.176624</td>\n",
       "      <td>0.261718</td>\n",
       "      <td>-0.515608</td>\n",
       "      <td>0.597681</td>\n",
       "      <td>0.178349</td>\n",
       "      <td>0.625350</td>\n",
       "      <td>-0.657245</td>\n",
       "      <td>G</td>\n",
       "    </tr>\n",
       "    <tr>\n",
       "      <th>10434</th>\n",
       "      <td>-0.054866</td>\n",
       "      <td>0.580242</td>\n",
       "      <td>0.032912</td>\n",
       "      <td>-0.016668</td>\n",
       "      <td>0.261718</td>\n",
       "      <td>1.519109</td>\n",
       "      <td>0.371178</td>\n",
       "      <td>-0.985508</td>\n",
       "      <td>-0.403638</td>\n",
       "      <td>1.276301</td>\n",
       "      <td>A</td>\n",
       "    </tr>\n",
       "    <tr>\n",
       "      <th>10435</th>\n",
       "      <td>0.080916</td>\n",
       "      <td>0.588093</td>\n",
       "      <td>0.015130</td>\n",
       "      <td>0.002250</td>\n",
       "      <td>0.261718</td>\n",
       "      <td>-0.930856</td>\n",
       "      <td>-0.270579</td>\n",
       "      <td>0.163807</td>\n",
       "      <td>-0.091823</td>\n",
       "      <td>-0.593329</td>\n",
       "      <td>F</td>\n",
       "    </tr>\n",
       "    <tr>\n",
       "      <th>10436</th>\n",
       "      <td>0.377169</td>\n",
       "      <td>0.014957</td>\n",
       "      <td>0.381439</td>\n",
       "      <td>0.292753</td>\n",
       "      <td>0.261718</td>\n",
       "      <td>-1.470679</td>\n",
       "      <td>-0.006326</td>\n",
       "      <td>-0.494919</td>\n",
       "      <td>-0.247731</td>\n",
       "      <td>-1.212974</td>\n",
       "      <td>H</td>\n",
       "    </tr>\n",
       "  </tbody>\n",
       "</table>\n",
       "<p>20867 rows × 11 columns</p>\n",
       "</div>"
      ],
      "text/plain": [
       "             F1        F2        F3        F4        F5        F6        F7  \\\n",
       "0      0.266074 -0.165620  0.320980  0.483299  0.172340  0.273364  0.371178   \n",
       "1      0.130292  0.870736 -3.210528  0.062493  0.261718  1.436060  1.465940   \n",
       "2     -0.116585  0.069915  0.068476 -0.783147  0.261718  0.439463 -0.081827   \n",
       "3      0.031541  0.297600 -3.210528 -0.583590 -0.721442 -0.307984  0.710932   \n",
       "4      0.229043  0.807926 -0.052442  0.082634  0.261718  0.148790  0.635431   \n",
       "...         ...       ...       ...       ...       ...       ...       ...   \n",
       "10432 -0.128929 -0.040001  0.057807  0.557894  0.261718 -0.930856 -0.044076   \n",
       "10433  0.266074  0.556689 -0.020434  0.176624  0.261718 -0.515608  0.597681   \n",
       "10434 -0.054866  0.580242  0.032912 -0.016668  0.261718  1.519109  0.371178   \n",
       "10435  0.080916  0.588093  0.015130  0.002250  0.261718 -0.930856 -0.270579   \n",
       "10436  0.377169  0.014957  0.381439  0.292753  0.261718 -1.470679 -0.006326   \n",
       "\n",
       "             F8        F9       F10 Class  \n",
       "0      0.929823  0.251173  0.159345     A  \n",
       "1      0.636203  0.282354  0.515587     A  \n",
       "2     -0.888236 -0.123005  0.582939     A  \n",
       "3      1.051693  0.594169 -0.533994     A  \n",
       "4      0.051062  0.032902 -0.086652     F  \n",
       "...         ...       ...       ...   ...  \n",
       "10432  1.158458  2.277968 -0.699884     X  \n",
       "10433  0.178349  0.625350 -0.657245     G  \n",
       "10434 -0.985508 -0.403638  1.276301     A  \n",
       "10435  0.163807 -0.091823 -0.593329     F  \n",
       "10436 -0.494919 -0.247731 -1.212974     H  \n",
       "\n",
       "[20867 rows x 11 columns]"
      ]
     },
     "execution_count": 3,
     "metadata": {},
     "output_type": "execute_result"
    }
   ],
   "source": [
    "data = pd.concat([fichero_entreno,fichero_test])\n",
    "# Añadimos cabecera para nombrar los atributos\n",
    "data.columns = ['F1','F2','F3','F4','F5','F6','F7','F8','F9','F10','Class']\n",
    "data"
   ]
  },
  {
   "cell_type": "code",
   "execution_count": 4,
   "id": "7fc6f7b5-b097-425e-9d52-b2fae8c93d7e",
   "metadata": {},
   "outputs": [],
   "source": [
    "# Lo pasamos a csv\n",
    "data.to_csv(\"./avila.csv\", index = False)"
   ]
  },
  {
   "cell_type": "code",
   "execution_count": 5,
   "id": "2897c408-5b45-4491-92ab-829cfab4a40b",
   "metadata": {},
   "outputs": [
    {
     "data": {
      "text/html": [
       "<div>\n",
       "<style scoped>\n",
       "    .dataframe tbody tr th:only-of-type {\n",
       "        vertical-align: middle;\n",
       "    }\n",
       "\n",
       "    .dataframe tbody tr th {\n",
       "        vertical-align: top;\n",
       "    }\n",
       "\n",
       "    .dataframe thead th {\n",
       "        text-align: right;\n",
       "    }\n",
       "</style>\n",
       "<table border=\"1\" class=\"dataframe\">\n",
       "  <thead>\n",
       "    <tr style=\"text-align: right;\">\n",
       "      <th></th>\n",
       "      <th>F1</th>\n",
       "      <th>F2</th>\n",
       "      <th>F3</th>\n",
       "      <th>F4</th>\n",
       "      <th>F5</th>\n",
       "      <th>F6</th>\n",
       "      <th>F7</th>\n",
       "      <th>F8</th>\n",
       "      <th>F9</th>\n",
       "      <th>F10</th>\n",
       "      <th>Class</th>\n",
       "    </tr>\n",
       "  </thead>\n",
       "  <tbody>\n",
       "    <tr>\n",
       "      <th>0</th>\n",
       "      <td>0.266074</td>\n",
       "      <td>-0.165620</td>\n",
       "      <td>0.320980</td>\n",
       "      <td>0.483299</td>\n",
       "      <td>0.172340</td>\n",
       "      <td>0.273364</td>\n",
       "      <td>0.371178</td>\n",
       "      <td>0.929823</td>\n",
       "      <td>0.251173</td>\n",
       "      <td>0.159345</td>\n",
       "      <td>A</td>\n",
       "    </tr>\n",
       "    <tr>\n",
       "      <th>1</th>\n",
       "      <td>0.130292</td>\n",
       "      <td>0.870736</td>\n",
       "      <td>-3.210528</td>\n",
       "      <td>0.062493</td>\n",
       "      <td>0.261718</td>\n",
       "      <td>1.436060</td>\n",
       "      <td>1.465940</td>\n",
       "      <td>0.636203</td>\n",
       "      <td>0.282354</td>\n",
       "      <td>0.515587</td>\n",
       "      <td>A</td>\n",
       "    </tr>\n",
       "    <tr>\n",
       "      <th>2</th>\n",
       "      <td>-0.116585</td>\n",
       "      <td>0.069915</td>\n",
       "      <td>0.068476</td>\n",
       "      <td>-0.783147</td>\n",
       "      <td>0.261718</td>\n",
       "      <td>0.439463</td>\n",
       "      <td>-0.081827</td>\n",
       "      <td>-0.888236</td>\n",
       "      <td>-0.123005</td>\n",
       "      <td>0.582939</td>\n",
       "      <td>A</td>\n",
       "    </tr>\n",
       "    <tr>\n",
       "      <th>3</th>\n",
       "      <td>0.031541</td>\n",
       "      <td>0.297600</td>\n",
       "      <td>-3.210528</td>\n",
       "      <td>-0.583590</td>\n",
       "      <td>-0.721442</td>\n",
       "      <td>-0.307984</td>\n",
       "      <td>0.710932</td>\n",
       "      <td>1.051693</td>\n",
       "      <td>0.594169</td>\n",
       "      <td>-0.533994</td>\n",
       "      <td>A</td>\n",
       "    </tr>\n",
       "    <tr>\n",
       "      <th>4</th>\n",
       "      <td>0.229043</td>\n",
       "      <td>0.807926</td>\n",
       "      <td>-0.052442</td>\n",
       "      <td>0.082634</td>\n",
       "      <td>0.261718</td>\n",
       "      <td>0.148790</td>\n",
       "      <td>0.635431</td>\n",
       "      <td>0.051062</td>\n",
       "      <td>0.032902</td>\n",
       "      <td>-0.086652</td>\n",
       "      <td>F</td>\n",
       "    </tr>\n",
       "    <tr>\n",
       "      <th>...</th>\n",
       "      <td>...</td>\n",
       "      <td>...</td>\n",
       "      <td>...</td>\n",
       "      <td>...</td>\n",
       "      <td>...</td>\n",
       "      <td>...</td>\n",
       "      <td>...</td>\n",
       "      <td>...</td>\n",
       "      <td>...</td>\n",
       "      <td>...</td>\n",
       "      <td>...</td>\n",
       "    </tr>\n",
       "    <tr>\n",
       "      <th>20862</th>\n",
       "      <td>-0.128929</td>\n",
       "      <td>-0.040001</td>\n",
       "      <td>0.057807</td>\n",
       "      <td>0.557894</td>\n",
       "      <td>0.261718</td>\n",
       "      <td>-0.930856</td>\n",
       "      <td>-0.044076</td>\n",
       "      <td>1.158458</td>\n",
       "      <td>2.277968</td>\n",
       "      <td>-0.699884</td>\n",
       "      <td>X</td>\n",
       "    </tr>\n",
       "    <tr>\n",
       "      <th>20863</th>\n",
       "      <td>0.266074</td>\n",
       "      <td>0.556689</td>\n",
       "      <td>-0.020434</td>\n",
       "      <td>0.176624</td>\n",
       "      <td>0.261718</td>\n",
       "      <td>-0.515608</td>\n",
       "      <td>0.597681</td>\n",
       "      <td>0.178349</td>\n",
       "      <td>0.625350</td>\n",
       "      <td>-0.657245</td>\n",
       "      <td>G</td>\n",
       "    </tr>\n",
       "    <tr>\n",
       "      <th>20864</th>\n",
       "      <td>-0.054866</td>\n",
       "      <td>0.580242</td>\n",
       "      <td>0.032912</td>\n",
       "      <td>-0.016668</td>\n",
       "      <td>0.261718</td>\n",
       "      <td>1.519109</td>\n",
       "      <td>0.371178</td>\n",
       "      <td>-0.985508</td>\n",
       "      <td>-0.403638</td>\n",
       "      <td>1.276301</td>\n",
       "      <td>A</td>\n",
       "    </tr>\n",
       "    <tr>\n",
       "      <th>20865</th>\n",
       "      <td>0.080916</td>\n",
       "      <td>0.588093</td>\n",
       "      <td>0.015130</td>\n",
       "      <td>0.002250</td>\n",
       "      <td>0.261718</td>\n",
       "      <td>-0.930856</td>\n",
       "      <td>-0.270579</td>\n",
       "      <td>0.163807</td>\n",
       "      <td>-0.091823</td>\n",
       "      <td>-0.593329</td>\n",
       "      <td>F</td>\n",
       "    </tr>\n",
       "    <tr>\n",
       "      <th>20866</th>\n",
       "      <td>0.377169</td>\n",
       "      <td>0.014957</td>\n",
       "      <td>0.381439</td>\n",
       "      <td>0.292753</td>\n",
       "      <td>0.261718</td>\n",
       "      <td>-1.470679</td>\n",
       "      <td>-0.006326</td>\n",
       "      <td>-0.494919</td>\n",
       "      <td>-0.247731</td>\n",
       "      <td>-1.212974</td>\n",
       "      <td>H</td>\n",
       "    </tr>\n",
       "  </tbody>\n",
       "</table>\n",
       "<p>20867 rows × 11 columns</p>\n",
       "</div>"
      ],
      "text/plain": [
       "             F1        F2        F3        F4        F5        F6        F7  \\\n",
       "0      0.266074 -0.165620  0.320980  0.483299  0.172340  0.273364  0.371178   \n",
       "1      0.130292  0.870736 -3.210528  0.062493  0.261718  1.436060  1.465940   \n",
       "2     -0.116585  0.069915  0.068476 -0.783147  0.261718  0.439463 -0.081827   \n",
       "3      0.031541  0.297600 -3.210528 -0.583590 -0.721442 -0.307984  0.710932   \n",
       "4      0.229043  0.807926 -0.052442  0.082634  0.261718  0.148790  0.635431   \n",
       "...         ...       ...       ...       ...       ...       ...       ...   \n",
       "20862 -0.128929 -0.040001  0.057807  0.557894  0.261718 -0.930856 -0.044076   \n",
       "20863  0.266074  0.556689 -0.020434  0.176624  0.261718 -0.515608  0.597681   \n",
       "20864 -0.054866  0.580242  0.032912 -0.016668  0.261718  1.519109  0.371178   \n",
       "20865  0.080916  0.588093  0.015130  0.002250  0.261718 -0.930856 -0.270579   \n",
       "20866  0.377169  0.014957  0.381439  0.292753  0.261718 -1.470679 -0.006326   \n",
       "\n",
       "             F8        F9       F10 Class  \n",
       "0      0.929823  0.251173  0.159345     A  \n",
       "1      0.636203  0.282354  0.515587     A  \n",
       "2     -0.888236 -0.123005  0.582939     A  \n",
       "3      1.051693  0.594169 -0.533994     A  \n",
       "4      0.051062  0.032902 -0.086652     F  \n",
       "...         ...       ...       ...   ...  \n",
       "20862  1.158458  2.277968 -0.699884     X  \n",
       "20863  0.178349  0.625350 -0.657245     G  \n",
       "20864 -0.985508 -0.403638  1.276301     A  \n",
       "20865  0.163807 -0.091823 -0.593329     F  \n",
       "20866 -0.494919 -0.247731 -1.212974     H  \n",
       "\n",
       "[20867 rows x 11 columns]"
      ]
     },
     "execution_count": 5,
     "metadata": {},
     "output_type": "execute_result"
    }
   ],
   "source": [
    "file = pd.read_csv('avila.csv')\n",
    "file"
   ]
  },
  {
   "cell_type": "code",
   "execution_count": 6,
   "id": "659cf499-b5c8-4443-99a6-6639b36eab87",
   "metadata": {},
   "outputs": [],
   "source": [
    "data = np.asarray(file)\n",
    "X = data[:,:10]\n",
    "# Normalizar\n",
    "X = MinMaxScaler().fit_transform(X)\n",
    "\n",
    "y = data[:,-1]"
   ]
  },
  {
   "cell_type": "code",
   "execution_count": 7,
   "id": "836bc1a2-3250-4226-bcb2-4583252f8ebd",
   "metadata": {},
   "outputs": [
    {
     "data": {
      "text/plain": [
       "array(['A', 'A', 'A', ..., 'A', 'F', 'H'], dtype=object)"
      ]
     },
     "execution_count": 7,
     "metadata": {},
     "output_type": "execute_result"
    }
   ],
   "source": [
    "y"
   ]
  },
  {
   "cell_type": "code",
   "execution_count": 8,
   "id": "b22d8bd7-cedf-4642-ae33-d88ab4e7232e",
   "metadata": {},
   "outputs": [],
   "source": [
    "# Array que tiene por columnas las 12 clases y por filas las 20867 instancias.\n",
    "# Las componentes de cada fila son todas 0, salvo la de la clase a la que pertenece la instancia donde se encuentra un 1\n",
    "d = LabelBinarizer().fit(np.unique(y)).transform(y)\n",
    "d = d.astype(float)"
   ]
  },
  {
   "cell_type": "code",
   "execution_count": 9,
   "id": "898e2e16-d5cd-44a3-8e99-8bf56261836a",
   "metadata": {},
   "outputs": [
    {
     "data": {
      "text/plain": [
       "array([[1., 0., 0., ..., 0., 0., 0.],\n",
       "       [1., 0., 0., ..., 0., 0., 0.],\n",
       "       [1., 0., 0., ..., 0., 0., 0.],\n",
       "       ...,\n",
       "       [1., 0., 0., ..., 0., 0., 0.],\n",
       "       [0., 0., 0., ..., 0., 0., 0.],\n",
       "       [0., 0., 0., ..., 0., 0., 0.]])"
      ]
     },
     "execution_count": 9,
     "metadata": {},
     "output_type": "execute_result"
    }
   ],
   "source": [
    "d"
   ]
  },
  {
   "cell_type": "markdown",
   "id": "fb54dd5d-442e-48f9-b99d-80dd15208018",
   "metadata": {},
   "source": [
    "### REGRESION LINEAL MULTIPLE - Apartado 2"
   ]
  },
  {
   "cell_type": "code",
   "execution_count": 10,
   "id": "86bfd0d4-f328-47c7-9f2a-df20495e5683",
   "metadata": {},
   "outputs": [],
   "source": [
    "X_train, X_test, d_train, d_test = train_test_split(X, d, test_size=0.33, \n",
    "                                                    random_state=0, stratify=y)"
   ]
  },
  {
   "cell_type": "code",
   "execution_count": 11,
   "id": "327bca73-5b78-47b0-a3db-f51962a501f2",
   "metadata": {},
   "outputs": [
    {
     "data": {
      "text/plain": [
       "((13980, 10), (6887, 10), (13980, 12), (6887, 12))"
      ]
     },
     "execution_count": 11,
     "metadata": {},
     "output_type": "execute_result"
    }
   ],
   "source": [
    "X_train.shape, X_test.shape, d_train.shape, d_test.shape"
   ]
  },
  {
   "cell_type": "code",
   "execution_count": 12,
   "id": "d85613cb-0180-40c5-95b2-324a765a1596",
   "metadata": {},
   "outputs": [],
   "source": [
    "# Array de la precision de cada clasificador\n",
    "y_predict = float_info.max * np.ones(d_test.shape, dtype=float)\n",
    "# Creamos un clasificador para cada clase existente y lo entrenamos con la columna correspondiente\n",
    "for i in range(d_test.shape[1]):\n",
    "    regresion = LinearRegression().fit(X_train, d_train[:,i])\n",
    "    y_predict[:,i] = regresion.predict(X_test)\n",
    "# Tomamos el clasificador predicho con mayor tasa de acierto para asignarle esa clase\n",
    "y_predict_test = np.argmax(y_predict, axis=1)"
   ]
  },
  {
   "cell_type": "code",
   "execution_count": 13,
   "id": "dd0e5e1d-9313-4e53-858c-9570f73fbb17",
   "metadata": {},
   "outputs": [
    {
     "name": "stdout",
     "output_type": "stream",
     "text": [
      "Tasa de aciertos = 0.4800348482648468\n",
      "\n",
      "Matriz de Confusión:\n",
      " [[2764    0    0    0    6   32    0    0   27    0    0    0]\n",
      " [   0    0    0    0    0    0    0    0    3    0    0    0]\n",
      " [  55    0    0    0    4    3    0    0    6    0    0    0]\n",
      " [ 222    0    0    0    1    1    0    0    9    0    0    0]\n",
      " [ 668    0    0    0   18   21    0    0   15    0    1    0]\n",
      " [1272    0    0    0    0    7    0    0   16    0    0    0]\n",
      " [ 287    0    0    0    1    3    0    0    4    0    0    0]\n",
      " [ 283    0    0    0    2   29    0    0   29    0    0    0]\n",
      " [  66    0    0    0    4    4    0    0  470    0    5    0]\n",
      " [  26    0    0    0    3    0    0    0    0    0    0    0]\n",
      " [ 206    0    0    0   12    0    0    0   79    0   47    0]\n",
      " [  41    0    0    0    1    1    0    0  133    0    0    0]]\n"
     ]
    }
   ],
   "source": [
    "print(\"Tasa de aciertos =\", ac(np.argmax(d_test, axis=1), np.argmax(y_predict, axis=1)))\n",
    "\n",
    "print(\"\\nMatriz de Confusión:\\n\", confusion_matrix(np.argmax(d_test, axis=1), np.argmax(y_predict, axis=1)))"
   ]
  },
  {
   "cell_type": "code",
   "execution_count": null,
   "id": "a71dc4cf-2dfb-4810-88cf-083205d5ff8b",
   "metadata": {},
   "outputs": [],
   "source": []
  },
  {
   "cell_type": "markdown",
   "id": "8bde3687-8921-4dec-965a-c58a89a33706",
   "metadata": {},
   "source": [
    "### VALIDACION CRUZADA ESTRATIFICADA (K-FOLD) Apartado 3"
   ]
  },
  {
   "cell_type": "code",
   "execution_count": 14,
   "id": "16a5684c-4540-4fdb-a4b8-056609159938",
   "metadata": {},
   "outputs": [],
   "source": [
    "# Creación de 10 particiones para realizar validación cruzada\n",
    "kfold = StratifiedKFold(n_splits=10, random_state=0, shuffle=True)"
   ]
  },
  {
   "cell_type": "code",
   "execution_count": 15,
   "id": "c5b2a257-5c08-4365-b81f-5e484f0bdd5a",
   "metadata": {},
   "outputs": [
    {
     "name": "stdout",
     "output_type": "stream",
     "text": [
      "ACIERTOS\n",
      "\n",
      "0.4791566842357451\n",
      "0.4853857211308098\n",
      "0.486823191183517\n",
      "0.48634403449928126\n",
      "0.47963584091998085\n",
      "0.48490656444657404\n",
      "0.4834690943938668\n",
      "0.47315436241610737\n",
      "0.48609779482262705\n",
      "0.4741131351869607\n",
      "\n",
      "\n",
      "Tasa de aciertos = 0.4819086423235469\n"
     ]
    }
   ],
   "source": [
    "# Array que almacenará la tasa de acierto de cada partición\n",
    "aciertos = np.zeros((10), dtype=float)\n",
    "k = 0\n",
    "print(\"ACIERTOS\\n\")\n",
    "# Creación, entrenamiento y predicción de los 12 clasificadores en las 10 particiones train-test\n",
    "for train_index, test_index in kfold.split(X, d[:,0]):\n",
    "    X_train, X_test = X[train_index], X[test_index]\n",
    "    d_train, d_test = d[train_index], d[test_index]\n",
    "    y_test = np.zeros(d_test.shape, dtype=float)\n",
    "    for i in range(d.shape[1]):\n",
    "        regresion = LinearRegression().fit(X_train,d_train[:,i])\n",
    "        y_test[:,i] = regresion.predict(X[test_index])\n",
    "    # Tomamos el clasificador predicho con mayor tasa de acierto para asignarle esa clase\n",
    "    # Tasa de acierto de una partición\n",
    "    aciertos[k] = ac(np.argmax(d_test, axis=1), np.argmax(y_test, axis=1))\n",
    "    print(aciertos[k])\n",
    "    k += 1\n",
    "print(\"\\n\\nTasa de aciertos =\", np.mean(aciertos))   "
   ]
  },
  {
   "cell_type": "markdown",
   "id": "dbf97db1-72fe-422b-8b4c-0a0c340c4ce2",
   "metadata": {},
   "source": [
    "### REGRESION LOGISTICA CON HOLD-OUT- Apartado 4"
   ]
  },
  {
   "cell_type": "code",
   "execution_count": 16,
   "id": "d1fbc4eb-03d1-4824-b4c2-475834e1785a",
   "metadata": {},
   "outputs": [
    {
     "name": "stdout",
     "output_type": "stream",
     "text": [
      "\u001b[1mTasa de acierto:\u001b[0m 0.4928\n"
     ]
    }
   ],
   "source": [
    "# Separación 2/3 y 1/3\n",
    "X_train, X_test, y_train, y_test = train_test_split(X, y, test_size = 1./3., random_state=0, stratify=y)\n",
    "\n",
    "# Creación y entrenamiento del clasificador de Regresión Logística\n",
    "clf = LogisticRegression(random_state=0, multi_class='auto', solver='lbfgs', max_iter=500)\n",
    "clf.fit(X_train, y_train)\n",
    "\n",
    "# Tasa de acierto para los datos de prueba y las clases a las que pertenecen\n",
    "acu = clf.score(X_test, y_test)\n",
    "\n",
    "print(\"\\033[1mTasa de acierto:\\033[0m %.4f\" %acu)"
   ]
  },
  {
   "cell_type": "code",
   "execution_count": 17,
   "id": "3b55de85-5fa5-40c2-833d-6e91ccac8ac6",
   "metadata": {},
   "outputs": [
    {
     "name": "stdout",
     "output_type": "stream",
     "text": [
      "\u001b[1mMatriz de confusión:\u001b[0m\n",
      "\n",
      "     A    B    C    D    E    F    G    H    I    W    X    Y  \n",
      "\n",
      "[[2813    0    0    0   12   29    0    1    0    0    2    0]\n",
      " [   3    0    0    0    0    0    0    0    0    0    0    0]\n",
      " [  62    0    0    0    0    7    0    0    0    0    0    0]\n",
      " [ 230    0    0    0    1    4    0    0    0    0    0    0]\n",
      " [ 711    0    0    0    1   17    0    0    0    0    1    0]\n",
      " [1285    0    0    0    7    9    0    3    4    0    0    0]\n",
      " [ 295    0    0    0    0    0    0    1    0    0    2    0]\n",
      " [ 300    0    0    0    0   42    0    0    4    0    0    0]\n",
      " [  56    0    0    0    3    2    0    1  489    0    3    0]\n",
      " [  30    0    0    0    0    0    0    0    0    0    0    0]\n",
      " [ 226    0    0    0    5    1    0    0    0    0  116    0]\n",
      " [ 125    0    0    0    2    0    0    0   19    0   32    0]]\n"
     ]
    }
   ],
   "source": [
    "# Predicciones del conjunto de test\n",
    "pred = clf.predict(X_test)\n",
    "\n",
    "# Matriz de confusión\n",
    "cm = confusion_matrix(y_test,pred)\n",
    "\n",
    "print(\"\\033[1mMatriz de confusión:\\033[0m\\n\")\n",
    "for i in np.unique(y_test):\n",
    "    if (i == 'A'):\n",
    "        print(\"  \",end=\" \")\n",
    "    print(\" \",i,\"\",end=\" \")\n",
    "print(\"\\n\")\n",
    "print(cm)"
   ]
  },
  {
   "cell_type": "markdown",
   "id": "aa51d37f-8f96-43ca-a479-bc0695d728f6",
   "metadata": {},
   "source": [
    "### REGRESIÓN LOGISTICA CON VALIDACIÓN CRUZADA- Apartado 4"
   ]
  },
  {
   "cell_type": "code",
   "execution_count": 18,
   "id": "acd69fed-443a-4c47-a655-51f7c522e815",
   "metadata": {},
   "outputs": [
    {
     "name": "stdout",
     "output_type": "stream",
     "text": [
      "\u001b[1mTasa de acierto:\u001b[0m 0.4993\n"
     ]
    }
   ],
   "source": [
    "# Creación del clasificador de Regresión logística\n",
    "clf = LogisticRegression(random_state=0, multi_class='auto', solver='lbfgs', max_iter=500)\n",
    "\n",
    "# El método cross_val_score utiliza la estrategia de estratificación al ser cv un número entero\n",
    "scores = cross_val_score(clf, X, y, cv=10)\n",
    "\n",
    "# Tasa de acierto\n",
    "print(\"\\033[1mTasa de acierto:\\033[0m %.4f\" %np.mean(scores, dtype=np.float64))"
   ]
  },
  {
   "cell_type": "code",
   "execution_count": null,
   "id": "183ea9ff-4523-4ac7-a7cd-71eb72898ce7",
   "metadata": {},
   "outputs": [],
   "source": []
  },
  {
   "cell_type": "code",
   "execution_count": null,
   "id": "f108990f-e557-4d68-b6de-1f2f66b0b62c",
   "metadata": {},
   "outputs": [],
   "source": []
  }
 ],
 "metadata": {
  "kernelspec": {
   "display_name": "Python 3 (ipykernel)",
   "language": "python",
   "name": "python3"
  },
  "language_info": {
   "codemirror_mode": {
    "name": "ipython",
    "version": 3
   },
   "file_extension": ".py",
   "mimetype": "text/x-python",
   "name": "python",
   "nbconvert_exporter": "python",
   "pygments_lexer": "ipython3",
   "version": "3.9.7"
  }
 },
 "nbformat": 4,
 "nbformat_minor": 5
}
