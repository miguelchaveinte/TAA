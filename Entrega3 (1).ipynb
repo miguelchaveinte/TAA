{
 "cells": [
  {
   "cell_type": "code",
   "execution_count": 208,
   "id": "236b3d1f-2aaa-45e4-be44-06a8de374bd6",
   "metadata": {},
   "outputs": [],
   "source": [
    "#Entrega 3  Práctica árboles decisión\n",
    "#TAA LAB 3 - 10 marzo\n",
    "#Miguel Chaveinte Garcia"
   ]
  },
  {
   "cell_type": "code",
   "execution_count": 209,
   "id": "83ccc991-3318-476a-b7ce-b2838e564fa0",
   "metadata": {},
   "outputs": [],
   "source": [
    "import pandas as pd\n",
    "import numpy as np\n",
    "from sklearn.tree import DecisionTreeClassifier, export_graphviz,export_text\n",
    "from sklearn.utils.multiclass import type_of_target\n",
    "from scipy.stats import entropy"
   ]
  },
  {
   "cell_type": "code",
   "execution_count": 210,
   "id": "6cc90343-fffe-45ca-a30e-25935bb841ac",
   "metadata": {},
   "outputs": [],
   "source": [
    "tabla = pd.DataFrame(columns=['Presion','Clase'],index=np.arange(6))"
   ]
  },
  {
   "cell_type": "code",
   "execution_count": 211,
   "id": "3b9bd26f-ede9-4bb0-9f18-2d1689a84f5b",
   "metadata": {},
   "outputs": [],
   "source": [
    "tabla.Presion=[40,48,60,72,80,90]\n",
    "tabla.Clase=['+','+','-','-','-','+']"
   ]
  },
  {
   "cell_type": "code",
   "execution_count": 212,
   "id": "cb0be63c-5761-418f-8155-7ce71c43c935",
   "metadata": {},
   "outputs": [
    {
     "data": {
      "text/html": [
       "<div>\n",
       "<style scoped>\n",
       "    .dataframe tbody tr th:only-of-type {\n",
       "        vertical-align: middle;\n",
       "    }\n",
       "\n",
       "    .dataframe tbody tr th {\n",
       "        vertical-align: top;\n",
       "    }\n",
       "\n",
       "    .dataframe thead th {\n",
       "        text-align: right;\n",
       "    }\n",
       "</style>\n",
       "<table border=\"1\" class=\"dataframe\">\n",
       "  <thead>\n",
       "    <tr style=\"text-align: right;\">\n",
       "      <th></th>\n",
       "      <th>Presion</th>\n",
       "      <th>Clase</th>\n",
       "    </tr>\n",
       "  </thead>\n",
       "  <tbody>\n",
       "    <tr>\n",
       "      <th>0</th>\n",
       "      <td>40</td>\n",
       "      <td>+</td>\n",
       "    </tr>\n",
       "    <tr>\n",
       "      <th>1</th>\n",
       "      <td>48</td>\n",
       "      <td>+</td>\n",
       "    </tr>\n",
       "    <tr>\n",
       "      <th>2</th>\n",
       "      <td>60</td>\n",
       "      <td>-</td>\n",
       "    </tr>\n",
       "    <tr>\n",
       "      <th>3</th>\n",
       "      <td>72</td>\n",
       "      <td>-</td>\n",
       "    </tr>\n",
       "    <tr>\n",
       "      <th>4</th>\n",
       "      <td>80</td>\n",
       "      <td>-</td>\n",
       "    </tr>\n",
       "    <tr>\n",
       "      <th>5</th>\n",
       "      <td>90</td>\n",
       "      <td>+</td>\n",
       "    </tr>\n",
       "  </tbody>\n",
       "</table>\n",
       "</div>"
      ],
      "text/plain": [
       "   Presion Clase\n",
       "0       40     +\n",
       "1       48     +\n",
       "2       60     -\n",
       "3       72     -\n",
       "4       80     -\n",
       "5       90     +"
      ]
     },
     "execution_count": 212,
     "metadata": {},
     "output_type": "execute_result"
    }
   ],
   "source": [
    "tabla"
   ]
  },
  {
   "cell_type": "code",
   "execution_count": 213,
   "id": "303c29ee-6df7-437a-8dc7-1ddd7b24e6a7",
   "metadata": {},
   "outputs": [
    {
     "data": {
      "text/plain": [
       "1.0"
      ]
     },
     "execution_count": 213,
     "metadata": {},
     "output_type": "execute_result"
    }
   ],
   "source": [
    "H = entropy(tabla.Clase.value_counts(normalize = True), base = 2)\n",
    "H"
   ]
  },
  {
   "cell_type": "code",
   "execution_count": 214,
   "id": "10215664-1c77-4f03-83cd-3708b261e576",
   "metadata": {},
   "outputs": [
    {
     "data": {
      "text/html": [
       "<div>\n",
       "<style scoped>\n",
       "    .dataframe tbody tr th:only-of-type {\n",
       "        vertical-align: middle;\n",
       "    }\n",
       "\n",
       "    .dataframe tbody tr th {\n",
       "        vertical-align: top;\n",
       "    }\n",
       "\n",
       "    .dataframe thead th {\n",
       "        text-align: right;\n",
       "    }\n",
       "</style>\n",
       "<table border=\"1\" class=\"dataframe\">\n",
       "  <thead>\n",
       "    <tr style=\"text-align: right;\">\n",
       "      <th></th>\n",
       "      <th>Presion</th>\n",
       "      <th>Clase</th>\n",
       "    </tr>\n",
       "  </thead>\n",
       "  <tbody>\n",
       "    <tr>\n",
       "      <th>0</th>\n",
       "      <td>0</td>\n",
       "      <td>+</td>\n",
       "    </tr>\n",
       "    <tr>\n",
       "      <th>1</th>\n",
       "      <td>0</td>\n",
       "      <td>+</td>\n",
       "    </tr>\n",
       "    <tr>\n",
       "      <th>2</th>\n",
       "      <td>1</td>\n",
       "      <td>-</td>\n",
       "    </tr>\n",
       "    <tr>\n",
       "      <th>3</th>\n",
       "      <td>1</td>\n",
       "      <td>-</td>\n",
       "    </tr>\n",
       "    <tr>\n",
       "      <th>4</th>\n",
       "      <td>1</td>\n",
       "      <td>-</td>\n",
       "    </tr>\n",
       "    <tr>\n",
       "      <th>5</th>\n",
       "      <td>1</td>\n",
       "      <td>+</td>\n",
       "    </tr>\n",
       "  </tbody>\n",
       "</table>\n",
       "</div>"
      ],
      "text/plain": [
       "   Presion Clase\n",
       "0        0     +\n",
       "1        0     +\n",
       "2        1     -\n",
       "3        1     -\n",
       "4        1     -\n",
       "5        1     +"
      ]
     },
     "execution_count": 214,
     "metadata": {},
     "output_type": "execute_result"
    }
   ],
   "source": [
    "tabla1 = tabla\n",
    "tabla1.Presion = np.digitize(tabla.Presion, bins = [(48 + 60) / 2])\n",
    "tabla1"
   ]
  },
  {
   "cell_type": "code",
   "execution_count": 215,
   "id": "68337fdf-4c6a-4cde-b9fe-15116dd08f72",
   "metadata": {},
   "outputs": [
    {
     "data": {
      "text/plain": [
       "0.4591479170272448"
      ]
     },
     "execution_count": 215,
     "metadata": {},
     "output_type": "execute_result"
    }
   ],
   "source": [
    "l1 = len(tabla1)\n",
    "G1 = H\n",
    "for v in tabla1.Presion.unique():\n",
    "    Class1 = tabla1.loc[tabla1.Presion == v]\n",
    "    #print(Class1)\n",
    "    G1 -= (len(Class1)/l1)*entropy(Class1.iloc[:, -1].value_counts(normalize=True), base = 2)\n",
    "G1"
   ]
  },
  {
   "cell_type": "code",
   "execution_count": 216,
   "id": "7640e637-8684-4a97-be95-cf6032700612",
   "metadata": {},
   "outputs": [
    {
     "data": {
      "text/html": [
       "<div>\n",
       "<style scoped>\n",
       "    .dataframe tbody tr th:only-of-type {\n",
       "        vertical-align: middle;\n",
       "    }\n",
       "\n",
       "    .dataframe tbody tr th {\n",
       "        vertical-align: top;\n",
       "    }\n",
       "\n",
       "    .dataframe thead th {\n",
       "        text-align: right;\n",
       "    }\n",
       "</style>\n",
       "<table border=\"1\" class=\"dataframe\">\n",
       "  <thead>\n",
       "    <tr style=\"text-align: right;\">\n",
       "      <th></th>\n",
       "      <th>Presion</th>\n",
       "      <th>Clase</th>\n",
       "    </tr>\n",
       "  </thead>\n",
       "  <tbody>\n",
       "    <tr>\n",
       "      <th>0</th>\n",
       "      <td>40</td>\n",
       "      <td>+</td>\n",
       "    </tr>\n",
       "    <tr>\n",
       "      <th>1</th>\n",
       "      <td>48</td>\n",
       "      <td>+</td>\n",
       "    </tr>\n",
       "    <tr>\n",
       "      <th>2</th>\n",
       "      <td>60</td>\n",
       "      <td>-</td>\n",
       "    </tr>\n",
       "    <tr>\n",
       "      <th>3</th>\n",
       "      <td>72</td>\n",
       "      <td>-</td>\n",
       "    </tr>\n",
       "    <tr>\n",
       "      <th>4</th>\n",
       "      <td>80</td>\n",
       "      <td>-</td>\n",
       "    </tr>\n",
       "    <tr>\n",
       "      <th>5</th>\n",
       "      <td>90</td>\n",
       "      <td>+</td>\n",
       "    </tr>\n",
       "  </tbody>\n",
       "</table>\n",
       "</div>"
      ],
      "text/plain": [
       "   Presion Clase\n",
       "0       40     +\n",
       "1       48     +\n",
       "2       60     -\n",
       "3       72     -\n",
       "4       80     -\n",
       "5       90     +"
      ]
     },
     "execution_count": 216,
     "metadata": {},
     "output_type": "execute_result"
    }
   ],
   "source": [
    "tabla.Presion = [40, 48, 60, 72, 80, 90]\n",
    "tabla"
   ]
  },
  {
   "cell_type": "code",
   "execution_count": 217,
   "id": "f6ce7d0a-3f3c-4454-abe9-9ab463c34276",
   "metadata": {},
   "outputs": [
    {
     "data": {
      "text/html": [
       "<div>\n",
       "<style scoped>\n",
       "    .dataframe tbody tr th:only-of-type {\n",
       "        vertical-align: middle;\n",
       "    }\n",
       "\n",
       "    .dataframe tbody tr th {\n",
       "        vertical-align: top;\n",
       "    }\n",
       "\n",
       "    .dataframe thead th {\n",
       "        text-align: right;\n",
       "    }\n",
       "</style>\n",
       "<table border=\"1\" class=\"dataframe\">\n",
       "  <thead>\n",
       "    <tr style=\"text-align: right;\">\n",
       "      <th></th>\n",
       "      <th>Presion</th>\n",
       "      <th>Clase</th>\n",
       "    </tr>\n",
       "  </thead>\n",
       "  <tbody>\n",
       "    <tr>\n",
       "      <th>0</th>\n",
       "      <td>0</td>\n",
       "      <td>+</td>\n",
       "    </tr>\n",
       "    <tr>\n",
       "      <th>1</th>\n",
       "      <td>0</td>\n",
       "      <td>+</td>\n",
       "    </tr>\n",
       "    <tr>\n",
       "      <th>2</th>\n",
       "      <td>0</td>\n",
       "      <td>-</td>\n",
       "    </tr>\n",
       "    <tr>\n",
       "      <th>3</th>\n",
       "      <td>0</td>\n",
       "      <td>-</td>\n",
       "    </tr>\n",
       "    <tr>\n",
       "      <th>4</th>\n",
       "      <td>0</td>\n",
       "      <td>-</td>\n",
       "    </tr>\n",
       "    <tr>\n",
       "      <th>5</th>\n",
       "      <td>1</td>\n",
       "      <td>+</td>\n",
       "    </tr>\n",
       "  </tbody>\n",
       "</table>\n",
       "</div>"
      ],
      "text/plain": [
       "   Presion Clase\n",
       "0        0     +\n",
       "1        0     +\n",
       "2        0     -\n",
       "3        0     -\n",
       "4        0     -\n",
       "5        1     +"
      ]
     },
     "execution_count": 217,
     "metadata": {},
     "output_type": "execute_result"
    }
   ],
   "source": [
    "tabla2 = tabla\n",
    "tabla2.Presion = np.digitize(tabla.Presion, bins = [(80 + 90) / 2])\n",
    "tabla2"
   ]
  },
  {
   "cell_type": "code",
   "execution_count": 218,
   "id": "2272b718-cf3e-4534-94bd-0fcc67ae6603",
   "metadata": {},
   "outputs": [
    {
     "data": {
      "text/plain": [
       "0.19087450462110933"
      ]
     },
     "execution_count": 218,
     "metadata": {},
     "output_type": "execute_result"
    }
   ],
   "source": [
    "l2 = len(tabla2)\n",
    "G2 = H\n",
    "for v in tabla2.Presion.unique():\n",
    "    Class2 = tabla2.loc[tabla2.Presion == v]\n",
    "    #print(table)\n",
    "    G2 -= (len(Class2) / l2) * entropy(Class2.iloc[:, -1].value_counts(normalize = True), base = 2)\n",
    "G2"
   ]
  },
  {
   "cell_type": "markdown",
   "id": "685c1a18-242f-4220-9743-ab47879d7a26",
   "metadata": {},
   "source": [
    "\n",
    "Como G1 > G2, se escogerá la primera cota de digitalización (Presión = 54)"
   ]
  },
  {
   "cell_type": "code",
   "execution_count": 219,
   "id": "595bdfd2-d3d5-4e95-b7cd-db6922ce1623",
   "metadata": {},
   "outputs": [],
   "source": [
    "tabla.Presion = [40, 48, 60, 72, 80, 90]"
   ]
  },
  {
   "cell_type": "code",
   "execution_count": 220,
   "id": "9b4dd098-d7e0-43fb-b6de-d93028307b00",
   "metadata": {},
   "outputs": [],
   "source": [
    "clf = DecisionTreeClassifier(max_leaf_nodes = 2, criterion = 'entropy')"
   ]
  },
  {
   "cell_type": "code",
   "execution_count": 221,
   "id": "a1d1e100-7cde-4168-aeb9-a131bcd76331",
   "metadata": {},
   "outputs": [
    {
     "data": {
      "text/plain": [
       "DecisionTreeClassifier(ccp_alpha=0.0, class_weight=None, criterion='entropy',\n",
       "                       max_depth=None, max_features=None, max_leaf_nodes=2,\n",
       "                       min_impurity_decrease=0.0, min_impurity_split=None,\n",
       "                       min_samples_leaf=1, min_samples_split=2,\n",
       "                       min_weight_fraction_leaf=0.0, presort='deprecated',\n",
       "                       random_state=None, splitter='best')"
      ]
     },
     "execution_count": 221,
     "metadata": {},
     "output_type": "execute_result"
    }
   ],
   "source": [
    "clf.fit(np.array(tabla.Presion).reshape(-1, 1), tabla.Clase)"
   ]
  },
  {
   "cell_type": "code",
   "execution_count": 222,
   "id": "efb1a366-482c-4d7d-9fef-5ed0ce1b3465",
   "metadata": {},
   "outputs": [
    {
     "name": "stdout",
     "output_type": "stream",
     "text": [
      "|--- Presionn <= 54.00\n",
      "|   |--- class: +\n",
      "|--- Presionn >  54.00\n",
      "|   |--- class: -\n",
      "\n"
     ]
    }
   ],
   "source": [
    "txt = export_text(clf, feature_names = ['Presionn'])\n",
    "print(txt)"
   ]
  },
  {
   "cell_type": "code",
   "execution_count": 223,
   "id": "baa2be7e-a81e-4d0f-8d6f-344038764630",
   "metadata": {},
   "outputs": [
    {
     "name": "stdout",
     "output_type": "stream",
     "text": [
      "---------------------------------------------------------------------------------------------\n"
     ]
    }
   ],
   "source": [
    "print('---------------------------------------------------------------------------------------------')\n"
   ]
  },
  {
   "cell_type": "code",
   "execution_count": 224,
   "id": "6cb95f17-ed0a-4ff3-b60d-80f656747efe",
   "metadata": {},
   "outputs": [
    {
     "name": "stdout",
     "output_type": "stream",
     "text": [
      "PARTE 2\n"
     ]
    }
   ],
   "source": [
    "print('PARTE 2')"
   ]
  },
  {
   "cell_type": "markdown",
   "id": "2df5a928-020f-4fd7-89dd-d8df3195199a",
   "metadata": {},
   "source": [
    "PREGUNTA 1:\n",
    "La razón por la cual no se puede aplicar el algoritmo ID3 sobre el mismo es la existencia de atributos de naturaleza numérica, para los cuales dicho algoritmo no esta diseñado. Por lo tanto,para que la clasificación con este algoritmo pueda llevarse a cabo,será necesaria una tarea de adaptación previa del conjunto de datos a los requisitos de ID3."
   ]
  },
  {
   "cell_type": "markdown",
   "id": "36709d64-87ae-4971-9a0c-a782a28a3230",
   "metadata": {},
   "source": [
    "PREGUNTA 2: "
   ]
  },
  {
   "cell_type": "code",
   "execution_count": 225,
   "id": "2ef9cb38-6be5-42a9-87ff-312b8ce1b0e0",
   "metadata": {},
   "outputs": [],
   "source": [
    "import numpy as np\n",
    "import pandas as pd\n",
    "from re import findall, finditer"
   ]
  },
  {
   "cell_type": "code",
   "execution_count": 226,
   "id": "a14edfdc-20f6-497d-892e-717b2071f9cd",
   "metadata": {},
   "outputs": [],
   "source": [
    "with open('./Escritorio/labTAA/lab3/documento.txt') as file:\n",
    "    documento = file.read()"
   ]
  },
  {
   "cell_type": "code",
   "execution_count": 227,
   "id": "96399181-21ea-425a-a8c2-84f0992e07c0",
   "metadata": {},
   "outputs": [
    {
     "data": {
      "text/plain": [
       "'PRE9 = T\\n|   PRE11 = T: T (2.0)\\n|   PRE11 = F\\n|   |   PRE6 = PRZ2: T (2.0/1.0)\\n|   |   PRE6 = PRZ1\\n|   |   |   PRE10 = T\\n|   |   |   |   PRE7 = T: T (2.0/1.0)\\n|   |   |   |   PRE7 = F\\n|   |   |   |   |   PRE8 = T\\n|   |   |   |   |   |   DGN = DGN3: T (3.0/1.0)\\n|   |   |   |   |   |   DGN = DGN2: F (2.0)\\n|   |   |   |   |   |   DGN = DGN4: F (0.0)\\n|   |   |   |   |   |   DGN = DGN6: F (0.0)\\n|   |   |   |   |   |   DGN = DGN5: F (0.0)\\n|   |   |   |   |   |   DGN = DGN8: F (0.0)\\n|   |   |   |   |   |   DGN = DGN1: F (0.0)\\n|   |   |   |   |   PRE8 = F: F (11.0)\\n|   |   |   PRE10 = F: F (5.0)\\n|   |   PRE6 = PRZ0: T (4.0/1.0)\\nPRE9 = F\\n|   PRE17 = T\\n|   |   PRE8 = T: T (4.0/1.0)\\n|   |   PRE8 = F\\n|   |   |   AGE <= 65\\n|   |   |   |   PRE11 = T: T (3.0)\\n|   |   |   |   PRE11 = F\\n|   |   |   |   |   PRE14 = OC11: F (5.0)\\n|   |   |   |   |   PRE14 = OC14: T (1.0)\\n|   |   |   |   |   PRE14 = OC12\\n|   |   |   |   |   |   AGE <= 62: F (7.0/1.0)\\n|   |   |   |   |   |   AGE > 62: T (2.0)\\n|   |   |   |   |   PRE14 = OC13: F (0.0)\\n|   |   |   AGE > 65: F (12.0)\\n|   PRE17 = F\\n|   |   DGN = DGN3\\n|   |   |   PRE7 = T\\n|   |   |   |   PRE10 = T: F (13.0/2.0)\\n|   |   |   |   PRE10 = F\\n|   |   |   |   |   PRE14 = OC11: F (2.0)\\n|   |   |   |   |   PRE14 = OC14: T (1.0)\\n|   |   |   |   |   PRE14 = OC12: T (2.0)\\n|   |   |   |   |   PRE14 = OC13: T (0.0)\\n|   |   |   PRE7 = F\\n|   |   |   |   PRE14 = OC11: F (121.0/7.0)\\n|   |   |   |   PRE14 = OC14: F (7.0/3.0)\\n|   |   |   |   PRE14 = OC12\\n|   |   |   |   |   PRE30 = T\\n|   |   |   |   |   |   PRE10 = T\\n|   |   |   |   |   |   |   PRE6 = PRZ2: F (4.0)\\n|   |   |   |   |   |   |   PRE6 = PRZ1\\n|   |   |   |   |   |   |   |   PRE25 = T: F (2.0)\\n|   |   |   |   |   |   |   |   PRE25 = F\\n|   |   |   |   |   |   |   |   |   PRE11 = T: F (16.0/1.0)\\n|   |   |   |   |   |   |   |   |   PRE11 = F\\n|   |   |   |   |   |   |   |   |   |   PRE8 = T\\n|   |   |   |   |   |   |   |   |   |   |   PRE4 <= 2.88: T (3.0/1.0)\\n|   |   |   |   |   |   |   |   |   |   |   PRE4 > 2.88: F (4.0)\\n|   |   |   |   |   |   |   |   |   |   PRE8 = F: F (67.0/10.0)\\n|   |   |   |   |   |   |   PRE6 = PRZ0: F (2.0)\\n|   |   |   |   |   |   PRE10 = F: F (30.0/1.0)\\n|   |   |   |   |   PRE30 = F: F (22.0)\\n|   |   |   |   PRE14 = OC13: F (6.0/2.0)\\n|   |   DGN = DGN2\\n|   |   |   PRE30 = T\\n|   |   |   |   PRE10 = T\\n|   |   |   |   |   PRE6 = PRZ2: F (4.0/1.0)\\n|   |   |   |   |   PRE6 = PRZ1\\n|   |   |   |   |   |   PRE14 = OC11: F (5.0/1.0)\\n|   |   |   |   |   |   PRE14 = OC14: F (3.0)\\n|   |   |   |   |   |   PRE14 = OC12\\n|   |   |   |   |   |   |   PRE8 = T: F (6.0/1.0)\\n|   |   |   |   |   |   |   PRE8 = F: T (6.0/2.0)\\n|   |   |   |   |   |   PRE14 = OC13: F (2.0)\\n|   |   |   |   |   PRE6 = PRZ0: T (2.0)\\n|   |   |   |   PRE10 = F: F (10.0/1.0)\\n|   |   |   PRE30 = F: F (6.0)\\n|   |   DGN = DGN4\\n|   |   |   PRE11 = T\\n|   |   |   |   PRE4 <= 2.66: T (3.0/1.0)\\n|   |   |   |   PRE4 > 2.66: F (2.0)\\n|   |   |   PRE11 = F\\n|   |   |   |   PRE14 = OC11: F (10.0)\\n|   |   |   |   PRE14 = OC14: F (0.0)\\n|   |   |   |   PRE14 = OC12\\n|   |   |   |   |   PRE5 <= 2.04\\n|   |   |   |   |   |   AGE <= 70: T (3.0/1.0)\\n|   |   |   |   |   |   AGE > 70: F (2.0)\\n|   |   |   |   |   PRE5 > 2.04: F (19.0)\\n|   |   |   |   PRE14 = OC13: F (1.0)\\n|   |   DGN = DGN6: F (4.0)\\n|   |   DGN = DGN5\\n|   |   |   PRE8 = T: F (3.0)\\n|   |   |   PRE8 = F\\n|   |   |   |   PRE14 = OC11\\n|   |   |   |   |   PRE10 = T: T (2.0)\\n|   |   |   |   |   PRE10 = F: F (3.0/1.0)\\n|   |   |   |   PRE14 = OC14: T (0.0)\\n|   |   |   |   PRE14 = OC12: F (3.0/1.0)\\n|   |   |   |   PRE14 = OC13: T (1.0)\\n|   |   DGN = DGN8: T (2.0/1.0)\\n|   |   DGN = DGN1: F (1.0)\\n\\n'"
      ]
     },
     "execution_count": 227,
     "metadata": {},
     "output_type": "execute_result"
    }
   ],
   "source": [
    "documento"
   ]
  },
  {
   "cell_type": "code",
   "execution_count": 228,
   "id": "34e3daf4-6a01-4d06-b39c-050c153f48f2",
   "metadata": {},
   "outputs": [
    {
     "data": {
      "text/plain": [
       "Index(['DGN', 'PRE4', 'PRE5', 'PRE6', 'PRE7', 'PRE8', 'PRE9', 'PRE10', 'PRE11',\n",
       "       'PRE14', 'PRE17', 'PRE19', 'PRE25', 'PRE30', 'PRE32', 'AGE', 'Risk1Yr'],\n",
       "      dtype='object')"
      ]
     },
     "execution_count": 228,
     "metadata": {},
     "output_type": "execute_result"
    }
   ],
   "source": [
    "tabla = pd.read_csv('./Escritorio/labTAA/lab3/ThoraricSurgery.csv')\n",
    "tabla.columns"
   ]
  },
  {
   "cell_type": "code",
   "execution_count": 229,
   "id": "1d4f71fc-c8fd-47ac-97bf-53a4b22cc949",
   "metadata": {},
   "outputs": [
    {
     "data": {
      "text/html": [
       "<div>\n",
       "<style scoped>\n",
       "    .dataframe tbody tr th:only-of-type {\n",
       "        vertical-align: middle;\n",
       "    }\n",
       "\n",
       "    .dataframe tbody tr th {\n",
       "        vertical-align: top;\n",
       "    }\n",
       "\n",
       "    .dataframe thead th {\n",
       "        text-align: right;\n",
       "    }\n",
       "</style>\n",
       "<table border=\"1\" class=\"dataframe\">\n",
       "  <thead>\n",
       "    <tr style=\"text-align: right;\">\n",
       "      <th></th>\n",
       "      <th>DGN</th>\n",
       "      <th>PRE4</th>\n",
       "      <th>PRE5</th>\n",
       "      <th>PRE6</th>\n",
       "      <th>PRE7</th>\n",
       "      <th>PRE8</th>\n",
       "      <th>PRE9</th>\n",
       "      <th>PRE10</th>\n",
       "      <th>PRE11</th>\n",
       "      <th>PRE14</th>\n",
       "      <th>PRE17</th>\n",
       "      <th>PRE19</th>\n",
       "      <th>PRE25</th>\n",
       "      <th>PRE30</th>\n",
       "      <th>PRE32</th>\n",
       "      <th>AGE</th>\n",
       "      <th>Risk1Yr</th>\n",
       "    </tr>\n",
       "  </thead>\n",
       "  <tbody>\n",
       "    <tr>\n",
       "      <th>0</th>\n",
       "      <td>DGN2</td>\n",
       "      <td>2.88</td>\n",
       "      <td>2.16</td>\n",
       "      <td>PRZ1</td>\n",
       "      <td>F</td>\n",
       "      <td>F</td>\n",
       "      <td>F</td>\n",
       "      <td>T</td>\n",
       "      <td>T</td>\n",
       "      <td>OC14</td>\n",
       "      <td>F</td>\n",
       "      <td>F</td>\n",
       "      <td>F</td>\n",
       "      <td>T</td>\n",
       "      <td>F</td>\n",
       "      <td>60</td>\n",
       "      <td>F</td>\n",
       "    </tr>\n",
       "    <tr>\n",
       "      <th>1</th>\n",
       "      <td>DGN3</td>\n",
       "      <td>3.40</td>\n",
       "      <td>1.88</td>\n",
       "      <td>PRZ0</td>\n",
       "      <td>F</td>\n",
       "      <td>F</td>\n",
       "      <td>F</td>\n",
       "      <td>F</td>\n",
       "      <td>F</td>\n",
       "      <td>OC12</td>\n",
       "      <td>F</td>\n",
       "      <td>F</td>\n",
       "      <td>F</td>\n",
       "      <td>T</td>\n",
       "      <td>F</td>\n",
       "      <td>51</td>\n",
       "      <td>F</td>\n",
       "    </tr>\n",
       "    <tr>\n",
       "      <th>2</th>\n",
       "      <td>DGN3</td>\n",
       "      <td>2.76</td>\n",
       "      <td>2.08</td>\n",
       "      <td>PRZ1</td>\n",
       "      <td>F</td>\n",
       "      <td>F</td>\n",
       "      <td>F</td>\n",
       "      <td>T</td>\n",
       "      <td>F</td>\n",
       "      <td>OC11</td>\n",
       "      <td>F</td>\n",
       "      <td>F</td>\n",
       "      <td>F</td>\n",
       "      <td>T</td>\n",
       "      <td>F</td>\n",
       "      <td>59</td>\n",
       "      <td>F</td>\n",
       "    </tr>\n",
       "    <tr>\n",
       "      <th>3</th>\n",
       "      <td>DGN3</td>\n",
       "      <td>3.68</td>\n",
       "      <td>3.04</td>\n",
       "      <td>PRZ0</td>\n",
       "      <td>F</td>\n",
       "      <td>F</td>\n",
       "      <td>F</td>\n",
       "      <td>F</td>\n",
       "      <td>F</td>\n",
       "      <td>OC11</td>\n",
       "      <td>F</td>\n",
       "      <td>F</td>\n",
       "      <td>F</td>\n",
       "      <td>F</td>\n",
       "      <td>F</td>\n",
       "      <td>54</td>\n",
       "      <td>F</td>\n",
       "    </tr>\n",
       "    <tr>\n",
       "      <th>4</th>\n",
       "      <td>DGN3</td>\n",
       "      <td>2.44</td>\n",
       "      <td>0.96</td>\n",
       "      <td>PRZ2</td>\n",
       "      <td>F</td>\n",
       "      <td>T</td>\n",
       "      <td>F</td>\n",
       "      <td>T</td>\n",
       "      <td>T</td>\n",
       "      <td>OC11</td>\n",
       "      <td>F</td>\n",
       "      <td>F</td>\n",
       "      <td>F</td>\n",
       "      <td>T</td>\n",
       "      <td>F</td>\n",
       "      <td>73</td>\n",
       "      <td>T</td>\n",
       "    </tr>\n",
       "    <tr>\n",
       "      <th>...</th>\n",
       "      <td>...</td>\n",
       "      <td>...</td>\n",
       "      <td>...</td>\n",
       "      <td>...</td>\n",
       "      <td>...</td>\n",
       "      <td>...</td>\n",
       "      <td>...</td>\n",
       "      <td>...</td>\n",
       "      <td>...</td>\n",
       "      <td>...</td>\n",
       "      <td>...</td>\n",
       "      <td>...</td>\n",
       "      <td>...</td>\n",
       "      <td>...</td>\n",
       "      <td>...</td>\n",
       "      <td>...</td>\n",
       "      <td>...</td>\n",
       "    </tr>\n",
       "    <tr>\n",
       "      <th>465</th>\n",
       "      <td>DGN2</td>\n",
       "      <td>3.88</td>\n",
       "      <td>2.12</td>\n",
       "      <td>PRZ1</td>\n",
       "      <td>F</td>\n",
       "      <td>F</td>\n",
       "      <td>F</td>\n",
       "      <td>T</td>\n",
       "      <td>F</td>\n",
       "      <td>OC13</td>\n",
       "      <td>F</td>\n",
       "      <td>F</td>\n",
       "      <td>F</td>\n",
       "      <td>T</td>\n",
       "      <td>F</td>\n",
       "      <td>63</td>\n",
       "      <td>F</td>\n",
       "    </tr>\n",
       "    <tr>\n",
       "      <th>466</th>\n",
       "      <td>DGN3</td>\n",
       "      <td>3.76</td>\n",
       "      <td>3.12</td>\n",
       "      <td>PRZ0</td>\n",
       "      <td>F</td>\n",
       "      <td>F</td>\n",
       "      <td>F</td>\n",
       "      <td>F</td>\n",
       "      <td>F</td>\n",
       "      <td>OC11</td>\n",
       "      <td>F</td>\n",
       "      <td>F</td>\n",
       "      <td>F</td>\n",
       "      <td>T</td>\n",
       "      <td>F</td>\n",
       "      <td>61</td>\n",
       "      <td>F</td>\n",
       "    </tr>\n",
       "    <tr>\n",
       "      <th>467</th>\n",
       "      <td>DGN3</td>\n",
       "      <td>3.04</td>\n",
       "      <td>2.08</td>\n",
       "      <td>PRZ1</td>\n",
       "      <td>F</td>\n",
       "      <td>F</td>\n",
       "      <td>F</td>\n",
       "      <td>T</td>\n",
       "      <td>F</td>\n",
       "      <td>OC13</td>\n",
       "      <td>F</td>\n",
       "      <td>F</td>\n",
       "      <td>F</td>\n",
       "      <td>F</td>\n",
       "      <td>F</td>\n",
       "      <td>52</td>\n",
       "      <td>F</td>\n",
       "    </tr>\n",
       "    <tr>\n",
       "      <th>468</th>\n",
       "      <td>DGN3</td>\n",
       "      <td>1.96</td>\n",
       "      <td>1.68</td>\n",
       "      <td>PRZ1</td>\n",
       "      <td>F</td>\n",
       "      <td>F</td>\n",
       "      <td>F</td>\n",
       "      <td>T</td>\n",
       "      <td>T</td>\n",
       "      <td>OC12</td>\n",
       "      <td>F</td>\n",
       "      <td>F</td>\n",
       "      <td>F</td>\n",
       "      <td>T</td>\n",
       "      <td>F</td>\n",
       "      <td>79</td>\n",
       "      <td>F</td>\n",
       "    </tr>\n",
       "    <tr>\n",
       "      <th>469</th>\n",
       "      <td>DGN3</td>\n",
       "      <td>4.72</td>\n",
       "      <td>3.56</td>\n",
       "      <td>PRZ0</td>\n",
       "      <td>F</td>\n",
       "      <td>F</td>\n",
       "      <td>F</td>\n",
       "      <td>F</td>\n",
       "      <td>F</td>\n",
       "      <td>OC12</td>\n",
       "      <td>F</td>\n",
       "      <td>F</td>\n",
       "      <td>F</td>\n",
       "      <td>T</td>\n",
       "      <td>F</td>\n",
       "      <td>51</td>\n",
       "      <td>F</td>\n",
       "    </tr>\n",
       "  </tbody>\n",
       "</table>\n",
       "<p>470 rows × 17 columns</p>\n",
       "</div>"
      ],
      "text/plain": [
       "      DGN  PRE4  PRE5  PRE6 PRE7 PRE8 PRE9 PRE10 PRE11 PRE14 PRE17 PRE19  \\\n",
       "0    DGN2  2.88  2.16  PRZ1    F    F    F     T     T  OC14     F     F   \n",
       "1    DGN3  3.40  1.88  PRZ0    F    F    F     F     F  OC12     F     F   \n",
       "2    DGN3  2.76  2.08  PRZ1    F    F    F     T     F  OC11     F     F   \n",
       "3    DGN3  3.68  3.04  PRZ0    F    F    F     F     F  OC11     F     F   \n",
       "4    DGN3  2.44  0.96  PRZ2    F    T    F     T     T  OC11     F     F   \n",
       "..    ...   ...   ...   ...  ...  ...  ...   ...   ...   ...   ...   ...   \n",
       "465  DGN2  3.88  2.12  PRZ1    F    F    F     T     F  OC13     F     F   \n",
       "466  DGN3  3.76  3.12  PRZ0    F    F    F     F     F  OC11     F     F   \n",
       "467  DGN3  3.04  2.08  PRZ1    F    F    F     T     F  OC13     F     F   \n",
       "468  DGN3  1.96  1.68  PRZ1    F    F    F     T     T  OC12     F     F   \n",
       "469  DGN3  4.72  3.56  PRZ0    F    F    F     F     F  OC12     F     F   \n",
       "\n",
       "    PRE25 PRE30 PRE32  AGE Risk1Yr  \n",
       "0       F     T     F   60       F  \n",
       "1       F     T     F   51       F  \n",
       "2       F     T     F   59       F  \n",
       "3       F     F     F   54       F  \n",
       "4       F     T     F   73       T  \n",
       "..    ...   ...   ...  ...     ...  \n",
       "465     F     T     F   63       F  \n",
       "466     F     T     F   61       F  \n",
       "467     F     F     F   52       F  \n",
       "468     F     T     F   79       F  \n",
       "469     F     T     F   51       F  \n",
       "\n",
       "[470 rows x 17 columns]"
      ]
     },
     "execution_count": 229,
     "metadata": {},
     "output_type": "execute_result"
    }
   ],
   "source": [
    "tabla"
   ]
  },
  {
   "cell_type": "code",
   "execution_count": 230,
   "id": "20e26f7a-68a1-4c55-91d7-c4b3201fb3f8",
   "metadata": {},
   "outputs": [
    {
     "name": "stdout",
     "output_type": "stream",
     "text": [
      "PRE19 \tAtributo no utilizado\n",
      "PRE32 \tAtributo no utilizado\n",
      "Risk1Yr \tAtributo no utilizado\n"
     ]
    }
   ],
   "source": [
    "for f in tabla.columns:\n",
    "    if documento.find(f) == -1:\n",
    "        print(f, '\\tAtributo no utilizado')"
   ]
  },
  {
   "cell_type": "code",
   "execution_count": 231,
   "id": "1af7820f-3be0-4398-8c94-c368240d0452",
   "metadata": {},
   "outputs": [
    {
     "name": "stdout",
     "output_type": "stream",
     "text": [
      "Árbol J48 sin prescindir de ningún atributo\n"
     ]
    }
   ],
   "source": [
    "print(\"Árbol J48 sin prescindir de ningún atributo\")"
   ]
  },
  {
   "cell_type": "markdown",
   "id": "fd5ed80e-5dc3-4147-82b1-b494e90679aa",
   "metadata": {},
   "source": [
    "<img src=\"./Escritorio/labTAA/lab3/j48_hold_outpreg2.png\">"
   ]
  },
  {
   "cell_type": "code",
   "execution_count": 232,
   "id": "cf514319-7165-46dc-8719-7a6c069929e1",
   "metadata": {},
   "outputs": [
    {
     "name": "stdout",
     "output_type": "stream",
     "text": [
      "Árbol J48 eliminando el atributo PRE19 y PRE32\n"
     ]
    }
   ],
   "source": [
    "print(\"Árbol J48 eliminando el atributo PRE19 y PRE32\")"
   ]
  },
  {
   "cell_type": "markdown",
   "id": "4c3f6b3e-3e51-4246-86cd-5ade24df1d37",
   "metadata": {},
   "source": [
    "<img src=\"./Escritorio/labTAA/lab3/J48_hold_out_eliminando.png\">"
   ]
  },
  {
   "cell_type": "markdown",
   "id": "c6176f2a-2019-4963-9f1f-ea6b82067a16",
   "metadata": {},
   "source": [
    "PREGUNTA 3:Esta técnica del j48 ofrece mejores resultados que la aplicada anteriormente de discretización debido a que en este último caso la discretización se realiza a priori.Esto quiere decir que además de no poder apoyarse en los valores de la clas de destino para la clasificación, este atributo tan solo podrá ser utilizado una vez para la clasificación.\n",
    "\n",
    "Por contra el algoritmo j48 realiza una técnica que aplica particionamientos binario y recursivo utilizando la Ganancia de Información como medida de bondad.La técnica de particionamiento recursivo de atributos numéricos permite una clasificación más eficiente ya que tan solo se produce cuando se maximiza la ganancia de información para dicha partición binaria."
   ]
  },
  {
   "cell_type": "markdown",
   "id": "176762d3-54e4-432e-8599-b39569b6392c",
   "metadata": {},
   "source": [
    "PREGUNTA 4:"
   ]
  },
  {
   "cell_type": "code",
   "execution_count": 233,
   "id": "86de8c60-6dda-4117-86a2-e322b7b987f4",
   "metadata": {},
   "outputs": [
    {
     "data": {
      "text/plain": [
       "['PRE4', 'PRE5', 'AGE']"
      ]
     },
     "execution_count": 233,
     "metadata": {},
     "output_type": "execute_result"
    }
   ],
   "source": [
    "Atrib_Num = [tabla.columns[i] for i in [1,2,15]]\n",
    "Atrib_Num"
   ]
  },
  {
   "cell_type": "code",
   "execution_count": 234,
   "id": "55f241e1-e9b6-4b63-89fe-6d47d26253e9",
   "metadata": {},
   "outputs": [
    {
     "name": "stdout",
     "output_type": "stream",
     "text": [
      "PRE4 <=  1929 1937\n",
      "2.88\n",
      "PRE4 <=  2855 2863\n",
      "2.66\n",
      "PRE5 <=  3066 3074\n",
      "2.04\n",
      "AGE <=  710 717\n",
      "65.0\n",
      "AGE <=  922 929\n",
      "62.0\n",
      "AGE <=  3103 3110\n",
      "70.0\n"
     ]
    }
   ],
   "source": [
    "for atributo in Atrib_Num:\n",
    "    b = []\n",
    "    for pos in finditer(atributo+' '+'<= ', documento):\n",
    "        print (atributo+' '+'<= ', pos.start(), pos.end())\n",
    "        \n",
    "        if documento[pos.end():].find(':') < documento[pos.end():].find('\\n'):  #busca si en el txt si se ha bifurcado con una nueva division o no\n",
    "            segmento = documento[pos.end():].find(':')\n",
    "        else:\n",
    "            segmento = documento[pos.end():].find('\\n')\n",
    "            \n",
    "        b.append(float(documento[pos.end():pos.end()+segmento]))\n",
    "        print(b[-1])\n",
    "        b.sort()\n",
    "    tabla[atributo] = [chr(65+i) for i in np.digitize(tabla[atributo], bins=b)]"
   ]
  },
  {
   "cell_type": "code",
   "execution_count": 235,
   "id": "78a9876d-6e2d-4ec5-9447-fd4d34c7be01",
   "metadata": {},
   "outputs": [
    {
     "data": {
      "text/html": [
       "<div>\n",
       "<style scoped>\n",
       "    .dataframe tbody tr th:only-of-type {\n",
       "        vertical-align: middle;\n",
       "    }\n",
       "\n",
       "    .dataframe tbody tr th {\n",
       "        vertical-align: top;\n",
       "    }\n",
       "\n",
       "    .dataframe thead th {\n",
       "        text-align: right;\n",
       "    }\n",
       "</style>\n",
       "<table border=\"1\" class=\"dataframe\">\n",
       "  <thead>\n",
       "    <tr style=\"text-align: right;\">\n",
       "      <th></th>\n",
       "      <th>DGN</th>\n",
       "      <th>PRE4</th>\n",
       "      <th>PRE5</th>\n",
       "      <th>PRE6</th>\n",
       "      <th>PRE7</th>\n",
       "      <th>PRE8</th>\n",
       "      <th>PRE9</th>\n",
       "      <th>PRE10</th>\n",
       "      <th>PRE11</th>\n",
       "      <th>PRE14</th>\n",
       "      <th>PRE17</th>\n",
       "      <th>PRE19</th>\n",
       "      <th>PRE25</th>\n",
       "      <th>PRE30</th>\n",
       "      <th>PRE32</th>\n",
       "      <th>AGE</th>\n",
       "      <th>Risk1Yr</th>\n",
       "    </tr>\n",
       "  </thead>\n",
       "  <tbody>\n",
       "    <tr>\n",
       "      <th>0</th>\n",
       "      <td>DGN2</td>\n",
       "      <td>C</td>\n",
       "      <td>B</td>\n",
       "      <td>PRZ1</td>\n",
       "      <td>F</td>\n",
       "      <td>F</td>\n",
       "      <td>F</td>\n",
       "      <td>T</td>\n",
       "      <td>T</td>\n",
       "      <td>OC14</td>\n",
       "      <td>F</td>\n",
       "      <td>F</td>\n",
       "      <td>F</td>\n",
       "      <td>T</td>\n",
       "      <td>F</td>\n",
       "      <td>A</td>\n",
       "      <td>F</td>\n",
       "    </tr>\n",
       "    <tr>\n",
       "      <th>1</th>\n",
       "      <td>DGN3</td>\n",
       "      <td>C</td>\n",
       "      <td>A</td>\n",
       "      <td>PRZ0</td>\n",
       "      <td>F</td>\n",
       "      <td>F</td>\n",
       "      <td>F</td>\n",
       "      <td>F</td>\n",
       "      <td>F</td>\n",
       "      <td>OC12</td>\n",
       "      <td>F</td>\n",
       "      <td>F</td>\n",
       "      <td>F</td>\n",
       "      <td>T</td>\n",
       "      <td>F</td>\n",
       "      <td>A</td>\n",
       "      <td>F</td>\n",
       "    </tr>\n",
       "    <tr>\n",
       "      <th>2</th>\n",
       "      <td>DGN3</td>\n",
       "      <td>B</td>\n",
       "      <td>B</td>\n",
       "      <td>PRZ1</td>\n",
       "      <td>F</td>\n",
       "      <td>F</td>\n",
       "      <td>F</td>\n",
       "      <td>T</td>\n",
       "      <td>F</td>\n",
       "      <td>OC11</td>\n",
       "      <td>F</td>\n",
       "      <td>F</td>\n",
       "      <td>F</td>\n",
       "      <td>T</td>\n",
       "      <td>F</td>\n",
       "      <td>A</td>\n",
       "      <td>F</td>\n",
       "    </tr>\n",
       "    <tr>\n",
       "      <th>3</th>\n",
       "      <td>DGN3</td>\n",
       "      <td>C</td>\n",
       "      <td>B</td>\n",
       "      <td>PRZ0</td>\n",
       "      <td>F</td>\n",
       "      <td>F</td>\n",
       "      <td>F</td>\n",
       "      <td>F</td>\n",
       "      <td>F</td>\n",
       "      <td>OC11</td>\n",
       "      <td>F</td>\n",
       "      <td>F</td>\n",
       "      <td>F</td>\n",
       "      <td>F</td>\n",
       "      <td>F</td>\n",
       "      <td>A</td>\n",
       "      <td>F</td>\n",
       "    </tr>\n",
       "    <tr>\n",
       "      <th>4</th>\n",
       "      <td>DGN3</td>\n",
       "      <td>A</td>\n",
       "      <td>A</td>\n",
       "      <td>PRZ2</td>\n",
       "      <td>F</td>\n",
       "      <td>T</td>\n",
       "      <td>F</td>\n",
       "      <td>T</td>\n",
       "      <td>T</td>\n",
       "      <td>OC11</td>\n",
       "      <td>F</td>\n",
       "      <td>F</td>\n",
       "      <td>F</td>\n",
       "      <td>T</td>\n",
       "      <td>F</td>\n",
       "      <td>D</td>\n",
       "      <td>T</td>\n",
       "    </tr>\n",
       "    <tr>\n",
       "      <th>...</th>\n",
       "      <td>...</td>\n",
       "      <td>...</td>\n",
       "      <td>...</td>\n",
       "      <td>...</td>\n",
       "      <td>...</td>\n",
       "      <td>...</td>\n",
       "      <td>...</td>\n",
       "      <td>...</td>\n",
       "      <td>...</td>\n",
       "      <td>...</td>\n",
       "      <td>...</td>\n",
       "      <td>...</td>\n",
       "      <td>...</td>\n",
       "      <td>...</td>\n",
       "      <td>...</td>\n",
       "      <td>...</td>\n",
       "      <td>...</td>\n",
       "    </tr>\n",
       "    <tr>\n",
       "      <th>465</th>\n",
       "      <td>DGN2</td>\n",
       "      <td>C</td>\n",
       "      <td>B</td>\n",
       "      <td>PRZ1</td>\n",
       "      <td>F</td>\n",
       "      <td>F</td>\n",
       "      <td>F</td>\n",
       "      <td>T</td>\n",
       "      <td>F</td>\n",
       "      <td>OC13</td>\n",
       "      <td>F</td>\n",
       "      <td>F</td>\n",
       "      <td>F</td>\n",
       "      <td>T</td>\n",
       "      <td>F</td>\n",
       "      <td>B</td>\n",
       "      <td>F</td>\n",
       "    </tr>\n",
       "    <tr>\n",
       "      <th>466</th>\n",
       "      <td>DGN3</td>\n",
       "      <td>C</td>\n",
       "      <td>B</td>\n",
       "      <td>PRZ0</td>\n",
       "      <td>F</td>\n",
       "      <td>F</td>\n",
       "      <td>F</td>\n",
       "      <td>F</td>\n",
       "      <td>F</td>\n",
       "      <td>OC11</td>\n",
       "      <td>F</td>\n",
       "      <td>F</td>\n",
       "      <td>F</td>\n",
       "      <td>T</td>\n",
       "      <td>F</td>\n",
       "      <td>A</td>\n",
       "      <td>F</td>\n",
       "    </tr>\n",
       "    <tr>\n",
       "      <th>467</th>\n",
       "      <td>DGN3</td>\n",
       "      <td>C</td>\n",
       "      <td>B</td>\n",
       "      <td>PRZ1</td>\n",
       "      <td>F</td>\n",
       "      <td>F</td>\n",
       "      <td>F</td>\n",
       "      <td>T</td>\n",
       "      <td>F</td>\n",
       "      <td>OC13</td>\n",
       "      <td>F</td>\n",
       "      <td>F</td>\n",
       "      <td>F</td>\n",
       "      <td>F</td>\n",
       "      <td>F</td>\n",
       "      <td>A</td>\n",
       "      <td>F</td>\n",
       "    </tr>\n",
       "    <tr>\n",
       "      <th>468</th>\n",
       "      <td>DGN3</td>\n",
       "      <td>A</td>\n",
       "      <td>A</td>\n",
       "      <td>PRZ1</td>\n",
       "      <td>F</td>\n",
       "      <td>F</td>\n",
       "      <td>F</td>\n",
       "      <td>T</td>\n",
       "      <td>T</td>\n",
       "      <td>OC12</td>\n",
       "      <td>F</td>\n",
       "      <td>F</td>\n",
       "      <td>F</td>\n",
       "      <td>T</td>\n",
       "      <td>F</td>\n",
       "      <td>D</td>\n",
       "      <td>F</td>\n",
       "    </tr>\n",
       "    <tr>\n",
       "      <th>469</th>\n",
       "      <td>DGN3</td>\n",
       "      <td>C</td>\n",
       "      <td>B</td>\n",
       "      <td>PRZ0</td>\n",
       "      <td>F</td>\n",
       "      <td>F</td>\n",
       "      <td>F</td>\n",
       "      <td>F</td>\n",
       "      <td>F</td>\n",
       "      <td>OC12</td>\n",
       "      <td>F</td>\n",
       "      <td>F</td>\n",
       "      <td>F</td>\n",
       "      <td>T</td>\n",
       "      <td>F</td>\n",
       "      <td>A</td>\n",
       "      <td>F</td>\n",
       "    </tr>\n",
       "  </tbody>\n",
       "</table>\n",
       "<p>470 rows × 17 columns</p>\n",
       "</div>"
      ],
      "text/plain": [
       "      DGN PRE4 PRE5  PRE6 PRE7 PRE8 PRE9 PRE10 PRE11 PRE14 PRE17 PRE19 PRE25  \\\n",
       "0    DGN2    C    B  PRZ1    F    F    F     T     T  OC14     F     F     F   \n",
       "1    DGN3    C    A  PRZ0    F    F    F     F     F  OC12     F     F     F   \n",
       "2    DGN3    B    B  PRZ1    F    F    F     T     F  OC11     F     F     F   \n",
       "3    DGN3    C    B  PRZ0    F    F    F     F     F  OC11     F     F     F   \n",
       "4    DGN3    A    A  PRZ2    F    T    F     T     T  OC11     F     F     F   \n",
       "..    ...  ...  ...   ...  ...  ...  ...   ...   ...   ...   ...   ...   ...   \n",
       "465  DGN2    C    B  PRZ1    F    F    F     T     F  OC13     F     F     F   \n",
       "466  DGN3    C    B  PRZ0    F    F    F     F     F  OC11     F     F     F   \n",
       "467  DGN3    C    B  PRZ1    F    F    F     T     F  OC13     F     F     F   \n",
       "468  DGN3    A    A  PRZ1    F    F    F     T     T  OC12     F     F     F   \n",
       "469  DGN3    C    B  PRZ0    F    F    F     F     F  OC12     F     F     F   \n",
       "\n",
       "    PRE30 PRE32 AGE Risk1Yr  \n",
       "0       T     F   A       F  \n",
       "1       T     F   A       F  \n",
       "2       T     F   A       F  \n",
       "3       F     F   A       F  \n",
       "4       T     F   D       T  \n",
       "..    ...   ...  ..     ...  \n",
       "465     T     F   B       F  \n",
       "466     T     F   A       F  \n",
       "467     F     F   A       F  \n",
       "468     T     F   D       F  \n",
       "469     T     F   A       F  \n",
       "\n",
       "[470 rows x 17 columns]"
      ]
     },
     "execution_count": 235,
     "metadata": {},
     "output_type": "execute_result"
    }
   ],
   "source": [
    "tabla"
   ]
  },
  {
   "cell_type": "code",
   "execution_count": 236,
   "id": "e3cce7d4-364c-4985-b2fc-242b051af0d9",
   "metadata": {},
   "outputs": [],
   "source": [
    "tabla.to_csv('./Escritorio/labTAA/lab3/Thoracic.Nominal_Discretizado.csv', index=False)"
   ]
  },
  {
   "cell_type": "code",
   "execution_count": 237,
   "id": "b0351b7b-d140-4e3a-adfe-46b4e9f357cb",
   "metadata": {},
   "outputs": [
    {
     "name": "stdout",
     "output_type": "stream",
     "text": [
      "Árbol generado con id3 discretizado por particiones anteriores\n"
     ]
    }
   ],
   "source": [
    "print(\"Árbol generado con id3 discretizado por particiones anteriores\")"
   ]
  },
  {
   "cell_type": "markdown",
   "id": "10169638-cc66-4bdb-878e-6f7d37780de2",
   "metadata": {},
   "source": [
    "<img src=\"./Escritorio/labTAA/lab3/id3_discretizado.png\">"
   ]
  },
  {
   "cell_type": "markdown",
   "id": "c01cb59e-0690-4444-90c6-e91680dc9425",
   "metadata": {},
   "source": [
    "PREGUNTA 4: El árbol obtenido en este apartado ha presentado mejores resultados durante la fase de test(75,6% de acierto vs 75%). Los motivos por los que ha ocurrido dicho fenómeno pueden haber sido debidos a lo siguiente:\n",
    "\n",
    "    - Los intervalos de particionamiento de los atributos de naturaleza numérica para su discretización han sido seleccionados de forma óptima según los resulados anteriores del algoritmo j48, que trata de maximizar la ganancia de información al realizar dicha tarea.\n",
    "    \n",
    "    - El árbol captura todas las posibles combinaciones en cada caso dado que la discretización se ha realizado a priori. Esto dependiendo del conjunto de datos, puede ser ser una ventaja o una desventaja debido a que en un gran número de ocasiones el sobreajuste que produce id3 es perjudicial para la tarea de clasificación, aunque en este caso no ha sido así.\n",
    "    \n",
    "Eso sí el tama"
   ]
  },
  {
   "cell_type": "code",
   "execution_count": null,
   "id": "656496a1-4b0d-410c-b10f-656f99bb4c69",
   "metadata": {},
   "outputs": [],
   "source": []
  }
 ],
 "metadata": {
  "kernelspec": {
   "display_name": "Python 3 (ipykernel)",
   "language": "python",
   "name": "python3"
  },
  "language_info": {
   "codemirror_mode": {
    "name": "ipython",
    "version": 3
   },
   "file_extension": ".py",
   "mimetype": "text/x-python",
   "name": "python",
   "nbconvert_exporter": "python",
   "pygments_lexer": "ipython3",
   "version": "3.9.7"
  }
 },
 "nbformat": 4,
 "nbformat_minor": 5
}
