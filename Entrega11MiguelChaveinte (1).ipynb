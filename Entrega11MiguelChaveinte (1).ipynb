{
 "cells": [
  {
   "cell_type": "markdown",
   "id": "9136f88c-abfe-4d22-a314-36c40d7d6695",
   "metadata": {},
   "source": [
    "# PRÁCTICA 11: Redes Neuronales de Funciones de Base Radial (RBF) y Máquinas de Vectores Soporte (SVM)"
   ]
  },
  {
   "cell_type": "markdown",
   "id": "a2499dbf-ca4c-4915-a822-81e6e4558604",
   "metadata": {},
   "source": [
    "#### TAA - 8 JUNIO\n",
    "#### MIGUEL CHAVEINTE GARCÍA"
   ]
  },
  {
   "cell_type": "code",
   "execution_count": 32,
   "id": "48e73895-f54c-42d9-9d2f-a94dc4d83d31",
   "metadata": {},
   "outputs": [],
   "source": [
    "from sklearn.datasets import load_breast_cancer\n",
    "from sklearn.preprocessing import MinMaxScaler\n",
    "from sklearn.metrics import accuracy_score as ac\n",
    "\n",
    "from sklearn.model_selection import StratifiedKFold\n",
    "from sklearn.cluster import KMeans\n",
    "from sklearn.metrics.pairwise import euclidean_distances\n",
    "from sklearn.svm import SVC\n",
    "\n",
    "import numpy as np\n",
    "from scipy.stats import mode\n",
    "import matplotlib.pyplot as plt\n",
    "import pandas as pd"
   ]
  },
  {
   "cell_type": "code",
   "execution_count": 33,
   "id": "c9535b7c-3234-477a-9572-58dd9390e87f",
   "metadata": {},
   "outputs": [],
   "source": [
    "data = load_breast_cancer()"
   ]
  },
  {
   "cell_type": "code",
   "execution_count": 34,
   "id": "30abaa8c-1d71-4eb6-a10d-70cf7c74e261",
   "metadata": {},
   "outputs": [
    {
     "data": {
      "text/plain": [
       "((569, 30), (569,))"
      ]
     },
     "execution_count": 34,
     "metadata": {},
     "output_type": "execute_result"
    }
   ],
   "source": [
    "# Normalizar\n",
    "X = MinMaxScaler().fit_transform(data.data)\n",
    "y = data.target\n",
    "\n",
    "X.shape, y.shape"
   ]
  },
  {
   "cell_type": "markdown",
   "id": "c5ccd125-e8e7-4fcb-8074-f0efe1110c5b",
   "metadata": {},
   "source": [
    "\n",
    "#### ACIERTO PARA CADA NEURONA DE CAPA OCULTA"
   ]
  },
  {
   "cell_type": "code",
   "execution_count": 20,
   "id": "a0ba833f-5d7a-44cb-9baa-a1ee98206974",
   "metadata": {},
   "outputs": [],
   "source": [
    "# Creación de 10 particiones para realizar validación cruzada\n",
    "skf = StratifiedKFold(n_splits=10, shuffle=True, random_state=0)"
   ]
  },
  {
   "cell_type": "code",
   "execution_count": 23,
   "id": "1e8621d9-de72-4b2e-b21f-a8f43ef0968d",
   "metadata": {},
   "outputs": [
    {
     "name": "stdout",
     "output_type": "stream",
     "text": [
      "    N º Clusters  Tasa de acierto\n",
      "0            2.0         0.927882\n",
      "1            3.0         0.899781\n",
      "2            4.0         0.901598\n",
      "3            5.0         0.926159\n",
      "4            6.0         0.901535\n",
      "5            7.0         0.912061\n",
      "6            8.0         0.912124\n",
      "7            9.0         0.931485\n",
      "8           10.0         0.929731\n",
      "9           11.0         0.931485\n",
      "10          12.0         0.924405\n",
      "11          13.0         0.934962\n",
      "12          14.0         0.936717\n",
      "13          15.0         0.934962\n",
      "14          16.0         0.926159\n",
      "15          17.0         0.934962\n",
      "16          18.0         0.945520\n",
      "17          19.0         0.938503\n",
      "18          20.0         0.940288\n",
      "19          21.0         0.940288\n",
      "20          22.0         0.957801\n",
      "21          23.0         0.961278\n",
      "22          24.0         0.948997\n",
      "23          25.0         0.957832\n",
      "24          26.0         0.956078\n",
      "25          27.0         0.950783\n",
      "26          28.0         0.952538\n",
      "27          29.0         0.938534\n",
      "28          30.0         0.950783\n"
     ]
    },
    {
     "data": {
      "image/png": "[encoded data removed]",
      "text/plain": [
       "<Figure size 432x288 with 1 Axes>"
      ]
     },
     "metadata": {
      "needs_background": "light"
     },
     "output_type": "display_data"
    }
   ],
   "source": [
    "# Array que almacenará el número de clusters con el que obtuvimos la mayor tasa de acierto para\n",
    "# tamaño de capa oculta varia de 2 a 30\n",
    "min_hl_size = 2\n",
    "max_hl_size = 30\n",
    "# Array para almacenar los resultados de la tasa de acierto por tamaño de capa oculta\n",
    "hl_accuracy = np.zeros(max_hl_size-1, dtype='float')\n",
    "\n",
    "#dataframe para sacar la tasa de acierto por cada clusters\n",
    "df = pd.DataFrame( columns = ['N º Clusters' , 'Tasa de acierto'])\n",
    "\n",
    "for hl in range(min_hl_size,max_hl_size+1):\n",
    "    # Creación del agrupamiento de kmedias con un número de clusters igual al número de neuronas que varia de 2 a 30\n",
    "    kmeans = KMeans(n_clusters=hl, random_state=0)\n",
    "    \n",
    "    for train_index, test_index in skf.split(X,y):\n",
    "        X_train, X_test = X[train_index], X[test_index]\n",
    "        y_train, y_test = y[train_index], y[test_index]\n",
    "        \n",
    "        # Entrenamiento de kmeans en la partición\n",
    "        kmeans.fit(X_train)\n",
    "        # Array para almacenar el etiquedado de moda de los clusters existentes en cada partición\n",
    "        mode_fold = np.ones(hl, dtype='int')\n",
    "        \n",
    "        for c in range(hl):\n",
    "            # Número de clusters como número de neuronas\n",
    "            cluster_labels = kmeans.labels_\n",
    "            # Moda para cada cluster\n",
    "            mode_fold[c] = mode(y_train[np.argwhere(cluster_labels == c)])[0]\n",
    "        \n",
    "        # Predecimos el cluster al que van a pertenecer las instancias de prueba\n",
    "        cluster_predict = kmeans.predict(X_test)\n",
    "        # Etiquetamos cada instancia con la moda del cluster al que pertenecen\n",
    "        y_test_predict = mode_fold[cluster_predict]\n",
    "        \n",
    "        # Suma de las 10 tasas de acierto para cada cluster\n",
    "        hl_accuracy[hl-min_hl_size] += ac(y_test,y_test_predict)\n",
    "    \n",
    "    # Media de la tasa de aciertos para cada número de clusters\n",
    "    hl_accuracy[hl-min_hl_size] /= 10\n",
    "    \n",
    "        \n",
    "    df.loc[hl-2]=[ hl, hl_accuracy[hl-min_hl_size] ]\n",
    "\n",
    "\n",
    "print(df)\n",
    "y_plot = hl_accuracy\n",
    "x_plot = [i+min_hl_size for i in range(y_plot.shape[0])]\n",
    "plt.plot(x_plot,y_plot)\n",
    "plt.plot(np.argmax(y_plot)+min_hl_size,y_plot[np.argmax(y_plot)],marker=\"o\",color=\"r\")\n",
    "plt.xlabel(\"Nº Clusters\")\n",
    "plt.ylabel(\"Tasa de acierto\")\n",
    "plt.show()"
   ]
  },
  {
   "cell_type": "code",
   "execution_count": 22,
   "id": "2a596b4c-60f5-4075-a28b-4f470bea1a5c",
   "metadata": {},
   "outputs": [
    {
     "name": "stdout",
     "output_type": "stream",
     "text": [
      "La mayor tasa de acierto la obtenemos con 2 clusters\n"
     ]
    }
   ],
   "source": [
    "optimal_cluster = np.argmax(hl_accuracy)+min_hl_size\n",
    "\n",
    "print(\"La mayor tasa de acierto la obtenemos con\",optimal_cluster,\"clusters\" %hl_accuracy[np.argmax(hl_accuracy)])"
   ]
  },
  {
   "cell_type": "markdown",
   "id": "56f8c19a-c16c-42c7-aae9-993d294ca4d9",
   "metadata": {},
   "source": [
    "#### RBF CON SVM EN LA CAPA DE SALIDA CON FUNCIÓN DE NÚCLEO POLINÓMICA"
   ]
  },
  {
   "cell_type": "code",
   "execution_count": 48,
   "id": "3dc71d9a-e3fc-4cad-986b-55d7ad479ca3",
   "metadata": {},
   "outputs": [
    {
     "name": "stdout",
     "output_type": "stream",
     "text": [
      "   Grado polinomial  Tasa de acierto\n",
      "0               1.0         0.938471\n",
      "1               2.0         0.931422\n",
      "2               3.0         0.926159\n",
      "3               4.0         0.920896\n",
      "4               5.0         0.915633\n"
     ]
    }
   ],
   "source": [
    "min_degree = 1\n",
    "max_degree = 5\n",
    "# Array para almacenar los resultados de la tasa de acierto por cada posible grado de función polinómica\n",
    "accuracy_per_degree = np.zeros(max_degree, dtype='float')\n",
    "\n",
    "#dataframe para sacar la tasa de acierto por cada clusters\n",
    "df1 = pd.DataFrame( columns = ['Grado polinomial' , 'Tasa de acierto'])\n",
    "for degree in range(min_degree, max_degree+1):\n",
    "    \n",
    "    for train_index, test_index in skf.split(X,y):\n",
    "        X_train, X_test = X[train_index], X[test_index]\n",
    "        y_train, y_test = y[train_index], y[test_index]\n",
    "        \n",
    "        # Creación del agrupamiento de kmedias con el número de clusters óptimo anteriormente calculado\n",
    "        kmeans = KMeans(n_clusters=optimal_cluster, random_state=0)\n",
    "        # Entrenamiento de kmeans en la partición\n",
    "        kmeans.fit(X_train)\n",
    "        # Cálculo de los centros de cada cluster\n",
    "        centers = kmeans.cluster_centers_\n",
    "        \n",
    "        # Cálculo de las distancias entre los centros de los clusters y del parámetro sigma\n",
    "        distances = euclidean_distances(centers)\n",
    "        sigma = np.sum(distances, axis=0)/(centers.shape[0]-1)\n",
    "        \n",
    "        # Matriz que almacena los grados de pertenencia de cada instancia de prueba a cada cluster\n",
    "        X_rbf_train = np.zeros((X_train.shape[0], centers.shape[0]), dtype='float')\n",
    "        for i in range(X_train.shape[0]):\n",
    "            for j in range(centers.shape[0]):\n",
    "                # Cálculo de la función de base radial para el conjunto de entrenamiento\n",
    "                X_rbf_train[i][j] = np.exp(-np.sum((X_train[i]-centers[j])**2)/(2.0*(sigma[j]**2)))\n",
    "        \n",
    "        # Matriz que almacena los grados de pertenencia de cada instancia de test a cada cluster\n",
    "        X_rbf_test = np.zeros((X_test.shape[0], centers.shape[0]), dtype='float')\n",
    "        for i in range(X_test.shape[0]):\n",
    "            for j in range(centers.shape[0]):\n",
    "                # Cálculo de la función de base radial para el conjunto de prueba\n",
    "                X_rbf_test[i][j] = np.exp(-np.sum((X_test[i]-centers[j])**2)/(2.0*(sigma[j]**2)))\n",
    "        \n",
    "        # Creamos y entrenamos el separador basado en máquinas de vectores soporte con función de núcleo polinómica\n",
    "        svm = SVC(kernel='poly', degree=degree, random_state=0, gamma='auto')\n",
    "        svm.fit(X_rbf_train,y_train)\n",
    "        \n",
    "        # Calculamos la tasa de acierto para la salida de la capa oculta para el conjunto de entrenamiento\n",
    "        accuracy = svm.score(X_rbf_test,y_test)\n",
    "        accuracy_per_degree[degree-min_degree] += accuracy\n",
    "    \n",
    "    # Media de la tasa de aciertos para cada grado de polinomio\n",
    "    accuracy_per_degree[degree-min_degree] /=10\n",
    "    df1.loc[degree-1]=[ degree, accuracy_per_degree[degree-min_degree] ]\n",
    "\n",
    "print(df1)\n"
   ]
  },
  {
   "cell_type": "code",
   "execution_count": 51,
   "id": "22a28acb-e86c-49a6-b09c-04d844ffe442",
   "metadata": {},
   "outputs": [
    {
     "name": "stdout",
     "output_type": "stream",
     "text": [
      "La mayor tasa de acierto la obtenemos con un kernel polinómico de grado 1 - 0.9384711779448622\n"
     ]
    }
   ],
   "source": [
    "optimal_degree = np.argmax(accuracy_per_degree)+min_degree   \n",
    "\n",
    "print(\"La mayor tasa de acierto la obtenemos con un kernel polinómico de grado\",optimal_degree,\"-\" ,accuracy_per_degree[np.argmax(accuracy_per_degree)])"
   ]
  },
  {
   "cell_type": "code",
   "execution_count": null,
   "id": "1cd24923-b322-4381-84d3-42a206d6107d",
   "metadata": {},
   "outputs": [],
   "source": [
    "\n"
   ]
  },
  {
   "cell_type": "code",
   "execution_count": null,
   "id": "f475fe0e-1885-467b-9cd9-116eafe1fb50",
   "metadata": {},
   "outputs": [],
   "source": []
  },
  {
   "cell_type": "code",
   "execution_count": null,
   "id": "42c23bc0-81b1-47bf-b87c-78d88a968046",
   "metadata": {},
   "outputs": [],
   "source": []
  },
  {
   "cell_type": "code",
   "execution_count": null,
   "id": "fed1f632-5c38-42f3-9303-0dcdb15908a2",
   "metadata": {},
   "outputs": [],
   "source": []
  }
 ],
 "metadata": {
  "kernelspec": {
   "display_name": "Python 3 (ipykernel)",
   "language": "python",
   "name": "python3"
  },
  "language_info": {
   "codemirror_mode": {
    "name": "ipython",
    "version": 3
   },
   "file_extension": ".py",
   "mimetype": "text/x-python",
   "name": "python",
   "nbconvert_exporter": "python",
   "pygments_lexer": "ipython3",
   "version": "3.9.7"
  }
 },
 "nbformat": 4,
 "nbformat_minor": 5
}
